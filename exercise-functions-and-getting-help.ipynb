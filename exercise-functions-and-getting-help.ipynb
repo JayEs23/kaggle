{
 "cells": [
  {
   "cell_type": "markdown",
   "id": "db2ca68b",
   "metadata": {
    "papermill": {
     "duration": 0.006914,
     "end_time": "2022-12-22T12:13:52.468804",
     "exception": false,
     "start_time": "2022-12-22T12:13:52.461890",
     "status": "completed"
    },
    "tags": []
   },
   "source": [
    "**This notebook is an exercise in the [Python](https://www.kaggle.com/learn/python) course.  You can reference the tutorial at [this link](https://www.kaggle.com/colinmorris/functions-and-getting-help).**\n",
    "\n",
    "---\n"
   ]
  },
  {
   "cell_type": "markdown",
   "id": "ba5f9e99",
   "metadata": {
    "papermill": {
     "duration": 0.005006,
     "end_time": "2022-12-22T12:13:52.479258",
     "exception": false,
     "start_time": "2022-12-22T12:13:52.474252",
     "status": "completed"
    },
    "tags": []
   },
   "source": [
    "Functions are powerful. Try writing some yourself.\n",
    "\n",
    "As before, don't forget to run the setup code below before jumping into question 1."
   ]
  },
  {
   "cell_type": "code",
   "execution_count": 1,
   "id": "b7b080ad",
   "metadata": {
    "_kg_hide-input": true,
    "_kg_hide-output": true,
    "execution": {
     "iopub.execute_input": "2022-12-22T12:13:52.492179Z",
     "iopub.status.busy": "2022-12-22T12:13:52.491477Z",
     "iopub.status.idle": "2022-12-22T12:13:52.569955Z",
     "shell.execute_reply": "2022-12-22T12:13:52.568647Z"
    },
    "papermill": {
     "duration": 0.090573,
     "end_time": "2022-12-22T12:13:52.575120",
     "exception": false,
     "start_time": "2022-12-22T12:13:52.484547",
     "status": "completed"
    },
    "tags": []
   },
   "outputs": [
    {
     "name": "stdout",
     "output_type": "stream",
     "text": [
      "Setup complete.\n"
     ]
    }
   ],
   "source": [
    "# SETUP. You don't need to worry for now about what this code does or how it works.\n",
    "from learntools.core import binder; binder.bind(globals())\n",
    "from learntools.python.ex2 import *\n",
    "print('Setup complete.')"
   ]
  },
  {
   "cell_type": "markdown",
   "id": "edda9dc4",
   "metadata": {
    "papermill": {
     "duration": 0.005561,
     "end_time": "2022-12-22T12:13:52.587856",
     "exception": false,
     "start_time": "2022-12-22T12:13:52.582295",
     "status": "completed"
    },
    "tags": []
   },
   "source": [
    "# 1.\n",
    "\n",
    "Complete the body of the following function according to its docstring.\n",
    "\n",
    "HINT: Python has a built-in function `round`."
   ]
  },
  {
   "cell_type": "code",
   "execution_count": 2,
   "id": "686f9ef3",
   "metadata": {
    "execution": {
     "iopub.execute_input": "2022-12-22T12:13:52.600526Z",
     "iopub.status.busy": "2022-12-22T12:13:52.600045Z",
     "iopub.status.idle": "2022-12-22T12:13:52.611853Z",
     "shell.execute_reply": "2022-12-22T12:13:52.610913Z"
    },
    "papermill": {
     "duration": 0.020982,
     "end_time": "2022-12-22T12:13:52.614017",
     "exception": false,
     "start_time": "2022-12-22T12:13:52.593035",
     "status": "completed"
    },
    "tags": []
   },
   "outputs": [
    {
     "data": {
      "application/javascript": [
       "parent.postMessage({\"jupyterEvent\": \"custom.exercise_interaction\", \"data\": {\"outcomeType\": 1, \"valueTowardsCompletion\": 0.16666666666666666, \"interactionType\": 1, \"questionType\": 2, \"questionId\": \"1_RoundFunctionProblem\", \"learnToolsVersion\": \"0.3.4\", \"failureMessage\": \"\", \"exceptionClass\": \"\", \"trace\": \"\"}}, \"*\")"
      ],
      "text/plain": [
       "<IPython.core.display.Javascript object>"
      ]
     },
     "metadata": {},
     "output_type": "display_data"
    },
    {
     "data": {
      "text/markdown": [
       "<span style=\"color:#33cc33\">Correct</span>"
      ],
      "text/plain": [
       "Correct"
      ]
     },
     "metadata": {},
     "output_type": "display_data"
    }
   ],
   "source": [
    "def round_to_two_places(num):\n",
    "    \"\"\"Return the given number rounded to two decimal places. \n",
    "    \n",
    "    >>> round_to_two_places(3.14159)\n",
    "    3.14\n",
    "    \"\"\"\n",
    "    return round(num,2)\n",
    "    # Replace this body with your own code.\n",
    "    # (\"pass\" is a keyword that does literally nothing. We used it as a placeholder\n",
    "    # because after we begin a code block, Python requires at least one line of code)\n",
    "    pass\n",
    "\n",
    "# Check your answer\n",
    "q1.check()"
   ]
  },
  {
   "cell_type": "code",
   "execution_count": 3,
   "id": "aa2098b0",
   "metadata": {
    "execution": {
     "iopub.execute_input": "2022-12-22T12:13:52.628304Z",
     "iopub.status.busy": "2022-12-22T12:13:52.627664Z",
     "iopub.status.idle": "2022-12-22T12:13:52.631939Z",
     "shell.execute_reply": "2022-12-22T12:13:52.630923Z"
    },
    "papermill": {
     "duration": 0.013834,
     "end_time": "2022-12-22T12:13:52.634351",
     "exception": false,
     "start_time": "2022-12-22T12:13:52.620517",
     "status": "completed"
    },
    "tags": []
   },
   "outputs": [],
   "source": [
    "# Uncomment the following for a hint\n",
    "#q1.hint()\n",
    "# Or uncomment the following to peek at the solution\n",
    "#q1.solution()"
   ]
  },
  {
   "cell_type": "markdown",
   "id": "b69536c9",
   "metadata": {
    "papermill": {
     "duration": 0.005143,
     "end_time": "2022-12-22T12:13:52.644992",
     "exception": false,
     "start_time": "2022-12-22T12:13:52.639849",
     "status": "completed"
    },
    "tags": []
   },
   "source": [
    "# 2.\n",
    "The help for `round` says that `ndigits` (the second argument) may be negative.\n",
    "What do you think will happen when it is? Try some examples in the following cell."
   ]
  },
  {
   "cell_type": "code",
   "execution_count": 4,
   "id": "b1719550",
   "metadata": {
    "execution": {
     "iopub.execute_input": "2022-12-22T12:13:52.657902Z",
     "iopub.status.busy": "2022-12-22T12:13:52.657296Z",
     "iopub.status.idle": "2022-12-22T12:13:52.662953Z",
     "shell.execute_reply": "2022-12-22T12:13:52.661317Z"
    },
    "papermill": {
     "duration": 0.015787,
     "end_time": "2022-12-22T12:13:52.666157",
     "exception": false,
     "start_time": "2022-12-22T12:13:52.650370",
     "status": "completed"
    },
    "tags": []
   },
   "outputs": [
    {
     "name": "stdout",
     "output_type": "stream",
     "text": [
      "10.0\n"
     ]
    }
   ],
   "source": [
    "# Put your test code here\n",
    "print(round(9.0020101021912091212,-1))"
   ]
  },
  {
   "cell_type": "code",
   "execution_count": 5,
   "id": "b4c6c54f",
   "metadata": {
    "execution": {
     "iopub.execute_input": "2022-12-22T12:13:52.679822Z",
     "iopub.status.busy": "2022-12-22T12:13:52.678390Z",
     "iopub.status.idle": "2022-12-22T12:13:52.691646Z",
     "shell.execute_reply": "2022-12-22T12:13:52.689486Z"
    },
    "papermill": {
     "duration": 0.023173,
     "end_time": "2022-12-22T12:13:52.694759",
     "exception": false,
     "start_time": "2022-12-22T12:13:52.671586",
     "status": "completed"
    },
    "tags": []
   },
   "outputs": [
    {
     "name": "stdout",
     "output_type": "stream",
     "text": [
      "10.0\n"
     ]
    },
    {
     "data": {
      "application/javascript": [
       "parent.postMessage({\"jupyterEvent\": \"custom.exercise_interaction\", \"data\": {\"interactionType\": 3, \"questionType\": 4, \"questionId\": \"2_RoundNdigitsProblem\", \"learnToolsVersion\": \"0.3.4\", \"valueTowardsCompletion\": 0.0, \"failureMessage\": \"\", \"exceptionClass\": \"\", \"trace\": \"\", \"outcomeType\": 4}}, \"*\")"
      ],
      "text/plain": [
       "<IPython.core.display.Javascript object>"
      ]
     },
     "metadata": {},
     "output_type": "display_data"
    },
    {
     "data": {
      "text/markdown": [
       "<span style=\"color:#33cc99\">Solution:</span> As you've seen, `ndigits=-1` rounds to the nearest 10, `ndigits=-2` rounds to the nearest 100 and so on. Where might this be useful? Suppose we're dealing with large numbers:\n",
       "\n",
       "> The area of Finland is 338,424 km²  \n",
       "> The area of Greenland is 2,166,086 km²\n",
       "\n",
       "We probably don't care whether it's really 338,424, or 338,425, or 338,177. All those digits of accuracy are just distracting. We can chop them off by calling `round()` with `ndigits=-3`:\n",
       "\n",
       "> The area of Finland is 338,000 km²  \n",
       "> The area of Greenland is 2,166,000 km²\n",
       "\n",
       "(We'll talk about how we would get the commas later when we talk about string formatting :))\n"
      ],
      "text/plain": [
       "Solution: As you've seen, `ndigits=-1` rounds to the nearest 10, `ndigits=-2` rounds to the nearest 100 and so on. Where might this be useful? Suppose we're dealing with large numbers:\n",
       "\n",
       "> The area of Finland is 338,424 km²  \n",
       "> The area of Greenland is 2,166,086 km²\n",
       "\n",
       "We probably don't care whether it's really 338,424, or 338,425, or 338,177. All those digits of accuracy are just distracting. We can chop them off by calling `round()` with `ndigits=-3`:\n",
       "\n",
       "> The area of Finland is 338,000 km²  \n",
       "> The area of Greenland is 2,166,000 km²\n",
       "\n",
       "(We'll talk about how we would get the commas later when we talk about string formatting :))"
      ]
     },
     "metadata": {},
     "output_type": "display_data"
    }
   ],
   "source": [
    "# Check your answer (Run this code cell to receive credit!)\n",
    "print(round(9.0020101021912091212,-1))\n",
    "q2.solution()"
   ]
  },
  {
   "cell_type": "markdown",
   "id": "b182647d",
   "metadata": {
    "papermill": {
     "duration": 0.005534,
     "end_time": "2022-12-22T12:13:52.706528",
     "exception": false,
     "start_time": "2022-12-22T12:13:52.700994",
     "status": "completed"
    },
    "tags": []
   },
   "source": [
    "Can you think of a case where this would be useful?  Once you're ready, run the code cell below to see the answer and to receive credit for completing the problem."
   ]
  },
  {
   "cell_type": "markdown",
   "id": "c07533c7",
   "metadata": {
    "papermill": {
     "duration": 0.006049,
     "end_time": "2022-12-22T12:13:52.718701",
     "exception": false,
     "start_time": "2022-12-22T12:13:52.712652",
     "status": "completed"
    },
    "tags": []
   },
   "source": [
    "# 3.\n",
    "\n",
    "In the previous exercise, the candy-sharing friends Alice, Bob and Carol tried to split candies evenly. For the sake of their friendship, any candies left over would be smashed. For example, if they collectively bring home 91 candies, they'll take 30 each and smash 1.\n",
    "\n",
    "Below is a simple function that will calculate the number of candies to smash for *any* number of total candies.\n",
    "\n",
    "Modify it so that it optionally takes a second argument representing the number of friends the candies are being split between. If no second argument is provided, it should assume 3 friends, as before.\n",
    "\n",
    "Update the docstring to reflect this new behaviour."
   ]
  },
  {
   "cell_type": "code",
   "execution_count": 6,
   "id": "15c07ff4",
   "metadata": {
    "execution": {
     "iopub.execute_input": "2022-12-22T12:13:52.733313Z",
     "iopub.status.busy": "2022-12-22T12:13:52.731897Z",
     "iopub.status.idle": "2022-12-22T12:13:52.742938Z",
     "shell.execute_reply": "2022-12-22T12:13:52.742025Z"
    },
    "papermill": {
     "duration": 0.020772,
     "end_time": "2022-12-22T12:13:52.745341",
     "exception": false,
     "start_time": "2022-12-22T12:13:52.724569",
     "status": "completed"
    },
    "tags": []
   },
   "outputs": [
    {
     "data": {
      "application/javascript": [
       "parent.postMessage({\"jupyterEvent\": \"custom.exercise_interaction\", \"data\": {\"outcomeType\": 1, \"valueTowardsCompletion\": 0.16666666666666666, \"interactionType\": 1, \"questionType\": 2, \"questionId\": \"3_CandySmashingFunctionProblem\", \"learnToolsVersion\": \"0.3.4\", \"failureMessage\": \"\", \"exceptionClass\": \"\", \"trace\": \"\"}}, \"*\")"
      ],
      "text/plain": [
       "<IPython.core.display.Javascript object>"
      ]
     },
     "metadata": {},
     "output_type": "display_data"
    },
    {
     "data": {
      "text/markdown": [
       "<span style=\"color:#33cc33\">Correct</span>"
      ],
      "text/plain": [
       "Correct"
      ]
     },
     "metadata": {},
     "output_type": "display_data"
    }
   ],
   "source": [
    "def to_smash(total_candies,number_of_friends = 3):\n",
    "    \"\"\"Return the number of leftover candies that must be smashed after distributing\n",
    "    the given number of candies evenly between 3 friends.\n",
    "    \n",
    "    >>> to_smash(91)\n",
    "    1\n",
    "    \"\"\"\n",
    "    return total_candies % number_of_friends\n",
    "\n",
    "to_smash(905,9)\n",
    "# Check your answer\n",
    "q3.check()"
   ]
  },
  {
   "cell_type": "code",
   "execution_count": 7,
   "id": "21d9dcb2",
   "metadata": {
    "execution": {
     "iopub.execute_input": "2022-12-22T12:13:52.762101Z",
     "iopub.status.busy": "2022-12-22T12:13:52.760961Z",
     "iopub.status.idle": "2022-12-22T12:13:52.766943Z",
     "shell.execute_reply": "2022-12-22T12:13:52.765461Z"
    },
    "papermill": {
     "duration": 0.018055,
     "end_time": "2022-12-22T12:13:52.769581",
     "exception": false,
     "start_time": "2022-12-22T12:13:52.751526",
     "status": "completed"
    },
    "tags": []
   },
   "outputs": [],
   "source": [
    "#q3.hint()"
   ]
  },
  {
   "cell_type": "code",
   "execution_count": 8,
   "id": "8345c552",
   "metadata": {
    "execution": {
     "iopub.execute_input": "2022-12-22T12:13:52.783854Z",
     "iopub.status.busy": "2022-12-22T12:13:52.783431Z",
     "iopub.status.idle": "2022-12-22T12:13:52.788736Z",
     "shell.execute_reply": "2022-12-22T12:13:52.786890Z"
    },
    "papermill": {
     "duration": 0.01551,
     "end_time": "2022-12-22T12:13:52.791286",
     "exception": false,
     "start_time": "2022-12-22T12:13:52.775776",
     "status": "completed"
    },
    "tags": []
   },
   "outputs": [],
   "source": [
    "#q3.solution()"
   ]
  },
  {
   "cell_type": "markdown",
   "id": "52ad8471",
   "metadata": {
    "papermill": {
     "duration": 0.006403,
     "end_time": "2022-12-22T12:13:52.804088",
     "exception": false,
     "start_time": "2022-12-22T12:13:52.797685",
     "status": "completed"
    },
    "tags": []
   },
   "source": [
    "# 4. (Optional)\n",
    "\n",
    "It may not be fun, but reading and understanding error messages will be an important part of your Python career.\n",
    "\n",
    "Each code cell below contains some commented buggy code. For each cell...\n",
    "\n",
    "1. Read the code and predict what you think will happen when it's run.\n",
    "2. Then uncomment the code and run it to see what happens. (**Tip**: In the kernel editor, you can highlight several lines and press `ctrl`+`/` to toggle commenting.)\n",
    "3. Fix the code (so that it accomplishes its intended purpose without throwing an exception)\n",
    "\n",
    "<!-- TODO: should this be autochecked? Delta is probably pretty small. -->"
   ]
  },
  {
   "cell_type": "code",
   "execution_count": 9,
   "id": "2bc239da",
   "metadata": {
    "execution": {
     "iopub.execute_input": "2022-12-22T12:13:52.819125Z",
     "iopub.status.busy": "2022-12-22T12:13:52.818301Z",
     "iopub.status.idle": "2022-12-22T12:13:52.826163Z",
     "shell.execute_reply": "2022-12-22T12:13:52.824929Z"
    },
    "papermill": {
     "duration": 0.018508,
     "end_time": "2022-12-22T12:13:52.829175",
     "exception": false,
     "start_time": "2022-12-22T12:13:52.810667",
     "status": "completed"
    },
    "tags": []
   },
   "outputs": [
    {
     "data": {
      "text/plain": [
       "10.0"
      ]
     },
     "execution_count": 9,
     "metadata": {},
     "output_type": "execute_result"
    }
   ],
   "source": [
    "round_to_two_places(9.9999)"
   ]
  },
  {
   "cell_type": "code",
   "execution_count": 10,
   "id": "34d4e3bd",
   "metadata": {
    "execution": {
     "iopub.execute_input": "2022-12-22T12:13:52.843757Z",
     "iopub.status.busy": "2022-12-22T12:13:52.842983Z",
     "iopub.status.idle": "2022-12-22T12:13:52.849713Z",
     "shell.execute_reply": "2022-12-22T12:13:52.848456Z"
    },
    "papermill": {
     "duration": 0.016494,
     "end_time": "2022-12-22T12:13:52.851998",
     "exception": false,
     "start_time": "2022-12-22T12:13:52.835504",
     "status": "completed"
    },
    "tags": []
   },
   "outputs": [
    {
     "name": "stdout",
     "output_type": "stream",
     "text": [
      "5\n"
     ]
    }
   ],
   "source": [
    "x = -10\n",
    "y = 5\n",
    "# Which of the two variables above has the smallest absolute value?\n",
    "smallest_abs = min(abs(x),abs(y))\n",
    "\n",
    "print(smallest_abs)\n",
    "#help(abs)"
   ]
  },
  {
   "cell_type": "code",
   "execution_count": 11,
   "id": "fe63a606",
   "metadata": {
    "execution": {
     "iopub.execute_input": "2022-12-22T12:13:52.866341Z",
     "iopub.status.busy": "2022-12-22T12:13:52.865907Z",
     "iopub.status.idle": "2022-12-22T12:13:52.872568Z",
     "shell.execute_reply": "2022-12-22T12:13:52.870954Z"
    },
    "papermill": {
     "duration": 0.01701,
     "end_time": "2022-12-22T12:13:52.875086",
     "exception": false,
     "start_time": "2022-12-22T12:13:52.858076",
     "status": "completed"
    },
    "tags": []
   },
   "outputs": [
    {
     "name": "stdout",
     "output_type": "stream",
     "text": [
      "5\n"
     ]
    }
   ],
   "source": [
    "def f(x):\n",
    "    y = abs(x)\n",
    "    return y\n",
    "\n",
    "print(f(5))"
   ]
  },
  {
   "cell_type": "markdown",
   "id": "954f044b",
   "metadata": {
    "papermill": {
     "duration": 0.006257,
     "end_time": "2022-12-22T12:13:52.888401",
     "exception": false,
     "start_time": "2022-12-22T12:13:52.882144",
     "status": "completed"
    },
    "tags": []
   },
   "source": [
    "# Keep Going\n",
    "\n",
    "Nice job with the code. Next up, you'll learn about *conditionals*, which you'll need to **[write interesting programs](https://www.kaggle.com/colinmorris/booleans-and-conditionals)**. "
   ]
  },
  {
   "cell_type": "markdown",
   "id": "ed208bcf",
   "metadata": {
    "papermill": {
     "duration": 0.005661,
     "end_time": "2022-12-22T12:13:52.900046",
     "exception": false,
     "start_time": "2022-12-22T12:13:52.894385",
     "status": "completed"
    },
    "tags": []
   },
   "source": [
    "---\n",
    "\n",
    "\n",
    "\n",
    "\n",
    "*Have questions or comments? Visit the [course discussion forum](https://www.kaggle.com/learn/python/discussion) to chat with other learners.*"
   ]
  }
 ],
 "metadata": {
  "kernelspec": {
   "display_name": "Python 3",
   "language": "python",
   "name": "python3"
  },
  "language_info": {
   "codemirror_mode": {
    "name": "ipython",
    "version": 3
   },
   "file_extension": ".py",
   "mimetype": "text/x-python",
   "name": "python",
   "nbconvert_exporter": "python",
   "pygments_lexer": "ipython3",
   "version": "3.7.12"
  },
  "papermill": {
   "default_parameters": {},
   "duration": 11.425472,
   "end_time": "2022-12-22T12:13:53.930492",
   "environment_variables": {},
   "exception": null,
   "input_path": "__notebook__.ipynb",
   "output_path": "__notebook__.ipynb",
   "parameters": {},
   "start_time": "2022-12-22T12:13:42.505020",
   "version": "2.3.4"
  }
 },
 "nbformat": 4,
 "nbformat_minor": 5
}
