{
 "cells": [
  {
   "cell_type": "markdown",
   "id": "f9f67858",
   "metadata": {
    "papermill": {
     "duration": 0.007521,
     "end_time": "2022-12-26T13:22:15.128865",
     "exception": false,
     "start_time": "2022-12-26T13:22:15.121344",
     "status": "completed"
    },
    "tags": []
   },
   "source": [
    "**This notebook is an exercise in the [Intro to Programming](https://www.kaggle.com/learn/intro-to-programming) course.  You can reference the tutorial at [this link](https://www.kaggle.com/alexisbcook/functions).**\n",
    "\n",
    "---\n"
   ]
  },
  {
   "cell_type": "markdown",
   "id": "0f1b6505",
   "metadata": {
    "papermill": {
     "duration": 0.006031,
     "end_time": "2022-12-26T13:22:15.141285",
     "exception": false,
     "start_time": "2022-12-26T13:22:15.135254",
     "status": "completed"
    },
    "tags": []
   },
   "source": [
    "In the tutorial, you learned about functions. In this exercise, you'll write some of your own!\n",
    "\n",
    "# Set up the notebook\n",
    "\n",
    "Run the next code cell without changes to set up the notebook."
   ]
  },
  {
   "cell_type": "code",
   "execution_count": 1,
   "id": "0642e308",
   "metadata": {
    "execution": {
     "iopub.execute_input": "2022-12-26T13:22:15.157045Z",
     "iopub.status.busy": "2022-12-26T13:22:15.156279Z",
     "iopub.status.idle": "2022-12-26T13:22:15.224639Z",
     "shell.execute_reply": "2022-12-26T13:22:15.223463Z"
    },
    "papermill": {
     "duration": 0.08257,
     "end_time": "2022-12-26T13:22:15.229987",
     "exception": false,
     "start_time": "2022-12-26T13:22:15.147417",
     "status": "completed"
    },
    "tags": []
   },
   "outputs": [
    {
     "name": "stdout",
     "output_type": "stream",
     "text": [
      "Setup complete.\n"
     ]
    }
   ],
   "source": [
    "# Set up the exercise\n",
    "import math\n",
    "from learntools.core import binder\n",
    "binder.bind(globals())\n",
    "from learntools.intro_to_programming.ex2 import *\n",
    "print('Setup complete.')"
   ]
  },
  {
   "cell_type": "markdown",
   "id": "836ae5b6",
   "metadata": {
    "papermill": {
     "duration": 0.006662,
     "end_time": "2022-12-26T13:22:15.245697",
     "exception": false,
     "start_time": "2022-12-26T13:22:15.239035",
     "status": "completed"
    },
    "tags": []
   },
   "source": [
    "# Question 1\n",
    "\n",
    "In the [House Prices - Advanced Regression Techniques competition](https://www.kaggle.com/c/house-prices-advanced-regression-techniques/overview), you need to use information like the number of bedrooms and bathrooms to predict the price of a house.  Inspired by this competition, you'll write your own function to do this.\n",
    "\n",
    "In the next code cell, create a function `get_expected_cost()` that has two arguments:\n",
    "- `beds` - number of bedrooms \n",
    "- `baths` - number of bathrooms\n",
    "\n",
    "It should return the expected cost of a house with that number of bedrooms and bathrooms.  Assume that:\n",
    "- the expected cost for a house with 0 bedrooms and 0 bathrooms is `80000`.  \n",
    "- each bedroom adds `30000` to the expected cost\n",
    "- each bathroom adds `10000` to the expected cost.\n",
    "\n",
    "For instance, \n",
    "- a house with 1 bedroom and 1 bathroom has an expected cost of `120000`, and \n",
    "- a house with 2 bedrooms and 1 bathroom has an expected cost of `150000`."
   ]
  },
  {
   "cell_type": "code",
   "execution_count": 2,
   "id": "ba802abc",
   "metadata": {
    "execution": {
     "iopub.execute_input": "2022-12-26T13:22:15.261739Z",
     "iopub.status.busy": "2022-12-26T13:22:15.261304Z",
     "iopub.status.idle": "2022-12-26T13:22:15.275176Z",
     "shell.execute_reply": "2022-12-26T13:22:15.273542Z"
    },
    "papermill": {
     "duration": 0.025044,
     "end_time": "2022-12-26T13:22:15.277930",
     "exception": false,
     "start_time": "2022-12-26T13:22:15.252886",
     "status": "completed"
    },
    "tags": []
   },
   "outputs": [
    {
     "data": {
      "application/javascript": [
       "parent.postMessage({\"jupyterEvent\": \"custom.exercise_interaction\", \"data\": {\"outcomeType\": 1, \"valueTowardsCompletion\": 0.2, \"interactionType\": 1, \"questionType\": 2, \"questionId\": \"1_GetExpectedCost\", \"learnToolsVersion\": \"0.3.4\", \"failureMessage\": \"\", \"exceptionClass\": \"\", \"trace\": \"\"}}, \"*\")"
      ],
      "text/plain": [
       "<IPython.core.display.Javascript object>"
      ]
     },
     "metadata": {},
     "output_type": "display_data"
    },
    {
     "data": {
      "text/markdown": [
       "<span style=\"color:#33cc33\">Correct</span>"
      ],
      "text/plain": [
       "Correct"
      ]
     },
     "metadata": {},
     "output_type": "display_data"
    }
   ],
   "source": [
    "# TODO: Complete the function\n",
    "def get_expected_cost(beds, baths):\n",
    "    b1 = 30000\n",
    "    b2 = 10000\n",
    "    value = 80000 + (b1 * beds) + (b2 * baths)\n",
    "    return value\n",
    "\n",
    "# Check your answer \n",
    "q1.check()"
   ]
  },
  {
   "cell_type": "code",
   "execution_count": 3,
   "id": "e584c160",
   "metadata": {
    "execution": {
     "iopub.execute_input": "2022-12-26T13:22:15.294209Z",
     "iopub.status.busy": "2022-12-26T13:22:15.292715Z",
     "iopub.status.idle": "2022-12-26T13:22:15.298813Z",
     "shell.execute_reply": "2022-12-26T13:22:15.297823Z"
    },
    "papermill": {
     "duration": 0.016795,
     "end_time": "2022-12-26T13:22:15.301247",
     "exception": false,
     "start_time": "2022-12-26T13:22:15.284452",
     "status": "completed"
    },
    "tags": []
   },
   "outputs": [],
   "source": [
    "# Uncomment to see a hint\n",
    "#q1.hint()\n",
    "\n",
    "# Uncomment to view the solution\n",
    "#q1.solution()"
   ]
  },
  {
   "cell_type": "markdown",
   "id": "f1ea8344",
   "metadata": {
    "papermill": {
     "duration": 0.006128,
     "end_time": "2022-12-26T13:22:15.313920",
     "exception": false,
     "start_time": "2022-12-26T13:22:15.307792",
     "status": "completed"
    },
    "tags": []
   },
   "source": [
    "# Question 2\n",
    "\n",
    "You are thinking about buying a home and want to get an idea of how much you will spend, based on the number of bedrooms and bathrooms.  You are trying to decide between four different options:\n",
    "- Option 1: house with two bedrooms and three bathrooms\n",
    "- Option 2: house with three bedrooms and two bathrooms\n",
    "- Option 3: house with three bedrooms and three bathrooms\n",
    "- Option 4: house with three bedrooms and four bathrooms\n",
    "\n",
    "Use the `get_expected_cost()` function you defined in question 1 to set `option_1`, `option_2`, `option_3`, and `option_4` to the expected cost of each option."
   ]
  },
  {
   "cell_type": "code",
   "execution_count": 4,
   "id": "6a769c8d",
   "metadata": {
    "execution": {
     "iopub.execute_input": "2022-12-26T13:22:15.332102Z",
     "iopub.status.busy": "2022-12-26T13:22:15.330691Z",
     "iopub.status.idle": "2022-12-26T13:22:15.345463Z",
     "shell.execute_reply": "2022-12-26T13:22:15.343796Z"
    },
    "papermill": {
     "duration": 0.027175,
     "end_time": "2022-12-26T13:22:15.348290",
     "exception": false,
     "start_time": "2022-12-26T13:22:15.321115",
     "status": "completed"
    },
    "tags": []
   },
   "outputs": [
    {
     "name": "stdout",
     "output_type": "stream",
     "text": [
      "170000\n",
      "190000\n",
      "200000\n",
      "210000\n"
     ]
    },
    {
     "data": {
      "application/javascript": [
       "parent.postMessage({\"jupyterEvent\": \"custom.exercise_interaction\", \"data\": {\"outcomeType\": 1, \"valueTowardsCompletion\": 0.2, \"interactionType\": 1, \"questionType\": 1, \"questionId\": \"2_RunGetExpectedCost\", \"learnToolsVersion\": \"0.3.4\", \"failureMessage\": \"\", \"exceptionClass\": \"\", \"trace\": \"\"}}, \"*\")"
      ],
      "text/plain": [
       "<IPython.core.display.Javascript object>"
      ]
     },
     "metadata": {},
     "output_type": "display_data"
    },
    {
     "data": {
      "text/markdown": [
       "<span style=\"color:#33cc33\">Correct</span>"
      ],
      "text/plain": [
       "Correct"
      ]
     },
     "metadata": {},
     "output_type": "display_data"
    }
   ],
   "source": [
    "# TODO: Use the get_expected_cost function to fill in each value\n",
    "option_one = get_expected_cost(2,3)\n",
    "option_two = get_expected_cost(3,2)\n",
    "option_three = get_expected_cost(3,3)\n",
    "option_four = get_expected_cost(3,4)\n",
    "\n",
    "print(option_one)\n",
    "print(option_two)\n",
    "print(option_three)\n",
    "print(option_four)\n",
    "\n",
    "# Check your answer\n",
    "q2.check()"
   ]
  },
  {
   "cell_type": "code",
   "execution_count": 5,
   "id": "7a04eada",
   "metadata": {
    "execution": {
     "iopub.execute_input": "2022-12-26T13:22:15.364273Z",
     "iopub.status.busy": "2022-12-26T13:22:15.363824Z",
     "iopub.status.idle": "2022-12-26T13:22:15.370119Z",
     "shell.execute_reply": "2022-12-26T13:22:15.368618Z"
    },
    "papermill": {
     "duration": 0.0178,
     "end_time": "2022-12-26T13:22:15.373125",
     "exception": false,
     "start_time": "2022-12-26T13:22:15.355325",
     "status": "completed"
    },
    "tags": []
   },
   "outputs": [],
   "source": [
    "# Uncomment to see a hint\n",
    "#q2.hint()\n",
    "\n",
    "# Uncomment to view the solution\n",
    "#q2.solution()"
   ]
  },
  {
   "cell_type": "markdown",
   "id": "f0cce805",
   "metadata": {
    "papermill": {
     "duration": 0.007053,
     "end_time": "2022-12-26T13:22:15.387553",
     "exception": false,
     "start_time": "2022-12-26T13:22:15.380500",
     "status": "completed"
    },
    "tags": []
   },
   "source": [
    "# Question 3\n",
    "\n",
    "You're a home decorator, and you'd like to use Python to streamline some of your work.  Specifically, you're creating a tool that you intend to use to calculate the cost of painting a room.\n",
    "\n",
    "As a first step, define a function `get_cost()` that takes as input:\n",
    "- `sqft_walls` = total square feet of walls to be painted\n",
    "- `sqft_ceiling` = square feet of ceiling to be painted\n",
    "- `sqft_per_gallon` = number of square feet that you can cover with one gallon of paint\n",
    "- `cost_per_gallon` = cost (in dollars) of one gallon of paint\n",
    "\n",
    "It should return the cost (in dollars) of putting one coat of paint on all walls and the ceiling.  Assume you can buy the exact amount of paint that you need, so you can buy partial gallons (e.g., if you need 7.523 gallons, you can buy that exact amount, instead of needing to buy 8 gallons and waste some paint).  Do not round your answer."
   ]
  },
  {
   "cell_type": "code",
   "execution_count": 6,
   "id": "15ac2ca8",
   "metadata": {
    "execution": {
     "iopub.execute_input": "2022-12-26T13:22:15.404004Z",
     "iopub.status.busy": "2022-12-26T13:22:15.403543Z",
     "iopub.status.idle": "2022-12-26T13:22:15.415375Z",
     "shell.execute_reply": "2022-12-26T13:22:15.414212Z"
    },
    "papermill": {
     "duration": 0.023153,
     "end_time": "2022-12-26T13:22:15.417892",
     "exception": false,
     "start_time": "2022-12-26T13:22:15.394739",
     "status": "completed"
    },
    "tags": []
   },
   "outputs": [
    {
     "data": {
      "application/javascript": [
       "parent.postMessage({\"jupyterEvent\": \"custom.exercise_interaction\", \"data\": {\"outcomeType\": 2, \"failureMessage\": \"Expected return value of `21.599999999999998` given `sqft_walls=432`, `sqft_ceiling=144`, `sqft_per_gallon=400`, `cost_per_gallon=15`, but got `()` instead.\", \"interactionType\": 1, \"questionType\": 2, \"questionId\": \"3_GetCostPaint\", \"learnToolsVersion\": \"0.3.4\", \"valueTowardsCompletion\": 0.0, \"exceptionClass\": \"\", \"trace\": \"\"}}, \"*\")"
      ],
      "text/plain": [
       "<IPython.core.display.Javascript object>"
      ]
     },
     "metadata": {},
     "output_type": "display_data"
    },
    {
     "data": {
      "text/markdown": [
       "<span style=\"color:#cc3333\">Incorrect:</span> Expected return value of `21.599999999999998` given `sqft_walls=432`, `sqft_ceiling=144`, `sqft_per_gallon=400`, `cost_per_gallon=15`, but got `()` instead."
      ],
      "text/plain": [
       "Incorrect: Expected return value of `21.599999999999998` given `sqft_walls=432`, `sqft_ceiling=144`, `sqft_per_gallon=400`, `cost_per_gallon=15`, but got `()` instead."
      ]
     },
     "metadata": {},
     "output_type": "display_data"
    }
   ],
   "source": [
    "# TODO: Finish defining the function\n",
    "def get_cost(sqft_walls, sqft_ceiling, sqft_per_gallon, cost_per_gallon):\n",
    "    cost = ()\n",
    "    return cost\n",
    "\n",
    "# Check your answer\n",
    "q3.check()"
   ]
  },
  {
   "cell_type": "code",
   "execution_count": 7,
   "id": "8c0b1b6e",
   "metadata": {
    "execution": {
     "iopub.execute_input": "2022-12-26T13:22:15.434837Z",
     "iopub.status.busy": "2022-12-26T13:22:15.434158Z",
     "iopub.status.idle": "2022-12-26T13:22:15.446828Z",
     "shell.execute_reply": "2022-12-26T13:22:15.445168Z"
    },
    "papermill": {
     "duration": 0.024605,
     "end_time": "2022-12-26T13:22:15.449666",
     "exception": false,
     "start_time": "2022-12-26T13:22:15.425061",
     "status": "completed"
    },
    "tags": []
   },
   "outputs": [
    {
     "data": {
      "application/javascript": [
       "parent.postMessage({\"jupyterEvent\": \"custom.exercise_interaction\", \"data\": {\"interactionType\": 2, \"questionType\": 2, \"questionId\": \"3_GetCostPaint\", \"learnToolsVersion\": \"0.3.4\", \"valueTowardsCompletion\": 0.0, \"failureMessage\": \"\", \"exceptionClass\": \"\", \"trace\": \"\", \"outcomeType\": 4}}, \"*\")"
      ],
      "text/plain": [
       "<IPython.core.display.Javascript object>"
      ]
     },
     "metadata": {},
     "output_type": "display_data"
    },
    {
     "data": {
      "text/markdown": [
       "<span style=\"color:#3366cc\">Hint:</span> Begin by calculating the total number of square feet that need to be painted. Then, based on that, figure out how many gallons you need.  Then, once you know how many gallons you need, you can calculate the total cost of the project."
      ],
      "text/plain": [
       "Hint: Begin by calculating the total number of square feet that need to be painted. Then, based on that, figure out how many gallons you need.  Then, once you know how many gallons you need, you can calculate the total cost of the project."
      ]
     },
     "metadata": {},
     "output_type": "display_data"
    }
   ],
   "source": [
    "# Uncomment to see a hint\n",
    "q3.hint()\n",
    "\n",
    "# Uncomment to view the solution\n",
    "#q3.solution()"
   ]
  },
  {
   "cell_type": "markdown",
   "id": "a47c6f84",
   "metadata": {
    "papermill": {
     "duration": 0.006933,
     "end_time": "2022-12-26T13:22:15.464576",
     "exception": false,
     "start_time": "2022-12-26T13:22:15.457643",
     "status": "completed"
    },
    "tags": []
   },
   "source": [
    "# Question 4\n",
    "\n",
    "Use the `get_cost()` function you defined in Question 3 to calculate the cost of applying one coat of paint to a room with:\n",
    "- 432 square feet of walls, and\n",
    "- 144 square feet of ceiling.\n",
    "\n",
    "Assume that one gallon of paint covers 400 square feet and costs $15.  As in Question 3, assume you can buy partial gallons of paint.  Do not round your answer."
   ]
  },
  {
   "cell_type": "code",
   "execution_count": 8,
   "id": "d1d36720",
   "metadata": {
    "execution": {
     "iopub.execute_input": "2022-12-26T13:22:15.481282Z",
     "iopub.status.busy": "2022-12-26T13:22:15.480833Z",
     "iopub.status.idle": "2022-12-26T13:22:15.490295Z",
     "shell.execute_reply": "2022-12-26T13:22:15.489150Z"
    },
    "papermill": {
     "duration": 0.021349,
     "end_time": "2022-12-26T13:22:15.493281",
     "exception": false,
     "start_time": "2022-12-26T13:22:15.471932",
     "status": "completed"
    },
    "tags": []
   },
   "outputs": [
    {
     "data": {
      "application/javascript": [
       "parent.postMessage({\"jupyterEvent\": \"custom.exercise_interaction\", \"data\": {\"outcomeType\": 4, \"interactionType\": 1, \"questionType\": 1, \"questionId\": \"4_GetCostPaintExample\", \"learnToolsVersion\": \"0.3.4\", \"valueTowardsCompletion\": 0.0, \"failureMessage\": \"\", \"exceptionClass\": \"\", \"trace\": \"\"}}, \"*\")"
      ],
      "text/plain": [
       "<IPython.core.display.Javascript object>"
      ]
     },
     "metadata": {},
     "output_type": "display_data"
    },
    {
     "data": {
      "text/markdown": [
       "<span style=\"color:#ccaa33\">Check:</span> When you've updated the starter code, `check()` will tell you whether your code is correct. You need to update the code that creates variable `project_cost`"
      ],
      "text/plain": [
       "Check: When you've updated the starter code, `check()` will tell you whether your code is correct. You need to update the code that creates variable `project_cost`"
      ]
     },
     "metadata": {},
     "output_type": "display_data"
    }
   ],
   "source": [
    "# TODO: Set the project_cost variable to the cost of the project\n",
    "project_cost = ____\n",
    "\n",
    "# Check your answer\n",
    "q4.check()"
   ]
  },
  {
   "cell_type": "code",
   "execution_count": 9,
   "id": "da1efc9a",
   "metadata": {
    "execution": {
     "iopub.execute_input": "2022-12-26T13:22:15.511806Z",
     "iopub.status.busy": "2022-12-26T13:22:15.511036Z",
     "iopub.status.idle": "2022-12-26T13:22:15.517208Z",
     "shell.execute_reply": "2022-12-26T13:22:15.515680Z"
    },
    "papermill": {
     "duration": 0.01839,
     "end_time": "2022-12-26T13:22:15.519737",
     "exception": false,
     "start_time": "2022-12-26T13:22:15.501347",
     "status": "completed"
    },
    "tags": []
   },
   "outputs": [],
   "source": [
    "# Uncomment to see a hint\n",
    "#q4.hint()\n",
    "\n",
    "# Uncomment to view the solution\n",
    "#q4.solution()"
   ]
  },
  {
   "cell_type": "markdown",
   "id": "bac17118",
   "metadata": {
    "papermill": {
     "duration": 0.007678,
     "end_time": "2022-12-26T13:22:15.535667",
     "exception": false,
     "start_time": "2022-12-26T13:22:15.527989",
     "status": "completed"
    },
    "tags": []
   },
   "source": [
    "# 🌶️ Question 5\n",
    "\n",
    "Now say you can no longer buy fractions of a gallon.  (For instance, if you need 4.3 gallons to do a project, then you have to buy 5 gallons of paint.)\n",
    "\n",
    "With this new scenario, you will create a new function `get_actual_cost` that uses the same inputs and calculates the cost of your project.\n",
    "\n",
    "One function that you'll need to use to do this is `math.ceil()`.  We demonstrate usage of this function in the code cell below.  It takes as a number as input and rounds the number up to the nearest integer.  \n",
    "\n",
    "Run the next code cell to test this function for yourself.  Feel free to change the value of `test_value` and make sure `math.ceil()` returns the number you expect."
   ]
  },
  {
   "cell_type": "code",
   "execution_count": 10,
   "id": "66236427",
   "metadata": {
    "execution": {
     "iopub.execute_input": "2022-12-26T13:22:15.554003Z",
     "iopub.status.busy": "2022-12-26T13:22:15.553491Z",
     "iopub.status.idle": "2022-12-26T13:22:15.561006Z",
     "shell.execute_reply": "2022-12-26T13:22:15.559176Z"
    },
    "papermill": {
     "duration": 0.020524,
     "end_time": "2022-12-26T13:22:15.564407",
     "exception": false,
     "start_time": "2022-12-26T13:22:15.543883",
     "status": "completed"
    },
    "tags": []
   },
   "outputs": [
    {
     "name": "stdout",
     "output_type": "stream",
     "text": [
      "3\n"
     ]
    }
   ],
   "source": [
    "test_value = 2.17\n",
    "\n",
    "rounded_value = math.ceil(test_value)\n",
    "print(rounded_value)"
   ]
  },
  {
   "cell_type": "markdown",
   "id": "7ec41c89",
   "metadata": {
    "papermill": {
     "duration": 0.007605,
     "end_time": "2022-12-26T13:22:15.581269",
     "exception": false,
     "start_time": "2022-12-26T13:22:15.573664",
     "status": "completed"
    },
    "tags": []
   },
   "source": [
    "Use the next code cell to define the function `get_actual_cost()`.  You'll need to use the `math.ceil()` function to do this.\n",
    "\n",
    "When answering this question, note that it's completely valid to define a function that makes use of another function.  For instance, we can define a function `round_up_and_divide_by_three` that makes use of the `math.ceil` function:\n",
    "```\n",
    "def round_up_and_divide_by_three(num):\n",
    "    new_value = math.ceil(num)\n",
    "    final_value = new_value / 3\n",
    "    return final_value\n",
    "```"
   ]
  },
  {
   "cell_type": "code",
   "execution_count": 11,
   "id": "799dc857",
   "metadata": {
    "execution": {
     "iopub.execute_input": "2022-12-26T13:22:15.599532Z",
     "iopub.status.busy": "2022-12-26T13:22:15.599098Z",
     "iopub.status.idle": "2022-12-26T13:22:15.609863Z",
     "shell.execute_reply": "2022-12-26T13:22:15.608686Z"
    },
    "papermill": {
     "duration": 0.023667,
     "end_time": "2022-12-26T13:22:15.612974",
     "exception": false,
     "start_time": "2022-12-26T13:22:15.589307",
     "status": "completed"
    },
    "tags": []
   },
   "outputs": [
    {
     "data": {
      "application/javascript": [
       "parent.postMessage({\"jupyterEvent\": \"custom.exercise_interaction\", \"data\": {\"outcomeType\": 2, \"failureMessage\": \"Expected return value of `30` given `sqft_walls=432`, `sqft_ceiling=144`, `sqft_per_gallon=400`, `cost_per_gallon=15`, but got `<learntools.core.constants.PlaceholderValue object at 0x7fbcf943e290>` instead.\", \"interactionType\": 1, \"questionType\": 2, \"questionId\": \"5_NoMoreFractions\", \"learnToolsVersion\": \"0.3.4\", \"valueTowardsCompletion\": 0.0, \"exceptionClass\": \"\", \"trace\": \"\"}}, \"*\")"
      ],
      "text/plain": [
       "<IPython.core.display.Javascript object>"
      ]
     },
     "metadata": {},
     "output_type": "display_data"
    },
    {
     "data": {
      "text/markdown": [
       "<span style=\"color:#cc3333\">Incorrect:</span> Expected return value of `30` given `sqft_walls=432`, `sqft_ceiling=144`, `sqft_per_gallon=400`, `cost_per_gallon=15`, but got `<learntools.core.constants.PlaceholderValue object at 0x7fbcf943e290>` instead."
      ],
      "text/plain": [
       "Incorrect: Expected return value of `30` given `sqft_walls=432`, `sqft_ceiling=144`, `sqft_per_gallon=400`, `cost_per_gallon=15`, but got `<learntools.core.constants.PlaceholderValue object at 0x7fbcf943e290>` instead."
      ]
     },
     "metadata": {},
     "output_type": "display_data"
    }
   ],
   "source": [
    "def get_actual_cost(sqft_walls, sqft_ceiling, sqft_per_gallon, cost_per_gallon):\n",
    "    cost = ____\n",
    "    return cost\n",
    "\n",
    "# Check your answer\n",
    "q5.check()"
   ]
  },
  {
   "cell_type": "code",
   "execution_count": 12,
   "id": "8fb14af7",
   "metadata": {
    "execution": {
     "iopub.execute_input": "2022-12-26T13:22:15.631950Z",
     "iopub.status.busy": "2022-12-26T13:22:15.631422Z",
     "iopub.status.idle": "2022-12-26T13:22:15.637009Z",
     "shell.execute_reply": "2022-12-26T13:22:15.635744Z"
    },
    "papermill": {
     "duration": 0.017686,
     "end_time": "2022-12-26T13:22:15.639505",
     "exception": false,
     "start_time": "2022-12-26T13:22:15.621819",
     "status": "completed"
    },
    "tags": []
   },
   "outputs": [],
   "source": [
    "# Uncomment to see a hint\n",
    "#q5.hint()\n",
    "\n",
    "# Uncomment to view the solution\n",
    "#q5.solution()"
   ]
  },
  {
   "cell_type": "markdown",
   "id": "fb669d1d",
   "metadata": {
    "papermill": {
     "duration": 0.007925,
     "end_time": "2022-12-26T13:22:15.655296",
     "exception": false,
     "start_time": "2022-12-26T13:22:15.647371",
     "status": "completed"
    },
    "tags": []
   },
   "source": [
    "Once your function is verified as correct, run the next code cell to calculate the updated cost of your project."
   ]
  },
  {
   "cell_type": "code",
   "execution_count": 13,
   "id": "c70c536d",
   "metadata": {
    "execution": {
     "iopub.execute_input": "2022-12-26T13:22:15.674562Z",
     "iopub.status.busy": "2022-12-26T13:22:15.673835Z",
     "iopub.status.idle": "2022-12-26T13:22:15.681449Z",
     "shell.execute_reply": "2022-12-26T13:22:15.680398Z"
    },
    "papermill": {
     "duration": 0.020221,
     "end_time": "2022-12-26T13:22:15.684374",
     "exception": false,
     "start_time": "2022-12-26T13:22:15.664153",
     "status": "completed"
    },
    "tags": []
   },
   "outputs": [
    {
     "data": {
      "text/markdown": [],
      "text/plain": [
       "<learntools.core.constants.PlaceholderValue at 0x7fbcf943e290>"
      ]
     },
     "execution_count": 13,
     "metadata": {},
     "output_type": "execute_result"
    }
   ],
   "source": [
    "get_actual_cost(432, 144, 400, 15) "
   ]
  },
  {
   "cell_type": "markdown",
   "id": "17b75ccb",
   "metadata": {
    "papermill": {
     "duration": 0.008772,
     "end_time": "2022-12-26T13:22:15.701594",
     "exception": false,
     "start_time": "2022-12-26T13:22:15.692822",
     "status": "completed"
    },
    "tags": []
   },
   "source": [
    "Say you're working with a slightly larger room.  Run the next code cell to calculate the cost of the project."
   ]
  },
  {
   "cell_type": "code",
   "execution_count": 14,
   "id": "7ff6c865",
   "metadata": {
    "execution": {
     "iopub.execute_input": "2022-12-26T13:22:15.720674Z",
     "iopub.status.busy": "2022-12-26T13:22:15.720264Z",
     "iopub.status.idle": "2022-12-26T13:22:15.727136Z",
     "shell.execute_reply": "2022-12-26T13:22:15.725889Z"
    },
    "papermill": {
     "duration": 0.020015,
     "end_time": "2022-12-26T13:22:15.729713",
     "exception": false,
     "start_time": "2022-12-26T13:22:15.709698",
     "status": "completed"
    },
    "tags": []
   },
   "outputs": [
    {
     "data": {
      "text/markdown": [],
      "text/plain": [
       "<learntools.core.constants.PlaceholderValue at 0x7fbcf943e290>"
      ]
     },
     "execution_count": 14,
     "metadata": {},
     "output_type": "execute_result"
    }
   ],
   "source": [
    "get_actual_cost(594, 288, 400, 15) "
   ]
  },
  {
   "cell_type": "markdown",
   "id": "4f5b3472",
   "metadata": {
    "papermill": {
     "duration": 0.00903,
     "end_time": "2022-12-26T13:22:15.747296",
     "exception": false,
     "start_time": "2022-12-26T13:22:15.738266",
     "status": "completed"
    },
    "tags": []
   },
   "source": [
    "# Keep going\n",
    "\n",
    "Continue to learn about **[data types](https://www.kaggle.com/alexisbcook/data-types)**."
   ]
  },
  {
   "cell_type": "markdown",
   "id": "2ab9d9d9",
   "metadata": {
    "papermill": {
     "duration": 0.008355,
     "end_time": "2022-12-26T13:22:15.765150",
     "exception": false,
     "start_time": "2022-12-26T13:22:15.756795",
     "status": "completed"
    },
    "tags": []
   },
   "source": [
    "---\n",
    "\n",
    "\n",
    "\n",
    "\n",
    "*Have questions or comments? Visit the [course discussion forum](https://www.kaggle.com/learn/intro-to-programming/discussion) to chat with other learners.*"
   ]
  }
 ],
 "metadata": {
  "kernelspec": {
   "display_name": "Python 3",
   "language": "python",
   "name": "python3"
  },
  "language_info": {
   "codemirror_mode": {
    "name": "ipython",
    "version": 3
   },
   "file_extension": ".py",
   "mimetype": "text/x-python",
   "name": "python",
   "nbconvert_exporter": "python",
   "pygments_lexer": "ipython3",
   "version": "3.7.12"
  },
  "papermill": {
   "default_parameters": {},
   "duration": 12.500514,
   "end_time": "2022-12-26T13:22:16.598843",
   "environment_variables": {},
   "exception": null,
   "input_path": "__notebook__.ipynb",
   "output_path": "__notebook__.ipynb",
   "parameters": {},
   "start_time": "2022-12-26T13:22:04.098329",
   "version": "2.3.4"
  }
 },
 "nbformat": 4,
 "nbformat_minor": 5
}
