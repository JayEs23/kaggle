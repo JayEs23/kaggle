{
 "cells": [
  {
   "cell_type": "markdown",
   "id": "9d48a7b0",
   "metadata": {
    "papermill": {
     "duration": 0.007675,
     "end_time": "2022-12-22T12:09:34.560843",
     "exception": false,
     "start_time": "2022-12-22T12:09:34.553168",
     "status": "completed"
    },
    "tags": []
   },
   "source": [
    "**This notebook is an exercise in the [Intro to Programming](https://www.kaggle.com/learn/intro-to-programming) course.  You can reference the tutorial at [this link](https://www.kaggle.com/alexisbcook/functions).**\n",
    "\n",
    "---\n"
   ]
  },
  {
   "cell_type": "markdown",
   "id": "36aa4f92",
   "metadata": {
    "papermill": {
     "duration": 0.005842,
     "end_time": "2022-12-22T12:09:34.573381",
     "exception": false,
     "start_time": "2022-12-22T12:09:34.567539",
     "status": "completed"
    },
    "tags": []
   },
   "source": [
    "In the tutorial, you learned about functions. In this exercise, you'll write some of your own!\n",
    "\n",
    "# Set up the notebook\n",
    "\n",
    "Run the next code cell without changes to set up the notebook."
   ]
  },
  {
   "cell_type": "code",
   "execution_count": 1,
   "id": "64ac0748",
   "metadata": {
    "execution": {
     "iopub.execute_input": "2022-12-22T12:09:34.588805Z",
     "iopub.status.busy": "2022-12-22T12:09:34.588023Z",
     "iopub.status.idle": "2022-12-22T12:09:34.653184Z",
     "shell.execute_reply": "2022-12-22T12:09:34.651853Z"
    },
    "papermill": {
     "duration": 0.078733,
     "end_time": "2022-12-22T12:09:34.658468",
     "exception": false,
     "start_time": "2022-12-22T12:09:34.579735",
     "status": "completed"
    },
    "tags": []
   },
   "outputs": [
    {
     "name": "stdout",
     "output_type": "stream",
     "text": [
      "Setup complete.\n"
     ]
    }
   ],
   "source": [
    "# Set up the exercise\n",
    "import math\n",
    "from learntools.core import binder\n",
    "binder.bind(globals())\n",
    "from learntools.intro_to_programming.ex2 import *\n",
    "print('Setup complete.')"
   ]
  },
  {
   "cell_type": "markdown",
   "id": "54988b85",
   "metadata": {
    "papermill": {
     "duration": 0.005923,
     "end_time": "2022-12-22T12:09:34.672042",
     "exception": false,
     "start_time": "2022-12-22T12:09:34.666119",
     "status": "completed"
    },
    "tags": []
   },
   "source": [
    "# Question 1\n",
    "\n",
    "In the [House Prices - Advanced Regression Techniques competition](https://www.kaggle.com/c/house-prices-advanced-regression-techniques/overview), you need to use information like the number of bedrooms and bathrooms to predict the price of a house.  Inspired by this competition, you'll write your own function to do this.\n",
    "\n",
    "In the next code cell, create a function `get_expected_cost()` that has two arguments:\n",
    "- `beds` - number of bedrooms \n",
    "- `baths` - number of bathrooms\n",
    "\n",
    "It should return the expected cost of a house with that number of bedrooms and bathrooms.  Assume that:\n",
    "- the expected cost for a house with 0 bedrooms and 0 bathrooms is `80000`.  \n",
    "- each bedroom adds `30000` to the expected cost\n",
    "- each bathroom adds `10000` to the expected cost.\n",
    "\n",
    "For instance, \n",
    "- a house with 1 bedroom and 1 bathroom has an expected cost of `120000`, and \n",
    "- a house with 2 bedrooms and 1 bathroom has an expected cost of `150000`."
   ]
  },
  {
   "cell_type": "code",
   "execution_count": 2,
   "id": "ac486d75",
   "metadata": {
    "execution": {
     "iopub.execute_input": "2022-12-22T12:09:34.691000Z",
     "iopub.status.busy": "2022-12-22T12:09:34.690085Z",
     "iopub.status.idle": "2022-12-22T12:09:34.707143Z",
     "shell.execute_reply": "2022-12-22T12:09:34.705614Z"
    },
    "papermill": {
     "duration": 0.031727,
     "end_time": "2022-12-22T12:09:34.709655",
     "exception": false,
     "start_time": "2022-12-22T12:09:34.677928",
     "status": "completed"
    },
    "tags": []
   },
   "outputs": [
    {
     "data": {
      "application/javascript": [
       "parent.postMessage({\"jupyterEvent\": \"custom.exercise_interaction\", \"data\": {\"outcomeType\": 1, \"valueTowardsCompletion\": 0.2, \"interactionType\": 1, \"questionType\": 2, \"questionId\": \"1_GetExpectedCost\", \"learnToolsVersion\": \"0.3.4\", \"failureMessage\": \"\", \"exceptionClass\": \"\", \"trace\": \"\"}}, \"*\")"
      ],
      "text/plain": [
       "<IPython.core.display.Javascript object>"
      ]
     },
     "metadata": {},
     "output_type": "display_data"
    },
    {
     "data": {
      "text/markdown": [
       "<span style=\"color:#33cc33\">Correct</span>"
      ],
      "text/plain": [
       "Correct"
      ]
     },
     "metadata": {},
     "output_type": "display_data"
    }
   ],
   "source": [
    "# TODO: Complete the function\n",
    "def get_expected_cost(beds, baths):\n",
    "    b1 = 30000\n",
    "    b2 = 10000\n",
    "    value = 80000 + (b1 * beds) + (b2 * baths)\n",
    "    return value\n",
    "\n",
    "# Check your answer \n",
    "q1.check()"
   ]
  },
  {
   "cell_type": "code",
   "execution_count": 3,
   "id": "9ceb2834",
   "metadata": {
    "execution": {
     "iopub.execute_input": "2022-12-22T12:09:34.726415Z",
     "iopub.status.busy": "2022-12-22T12:09:34.725516Z",
     "iopub.status.idle": "2022-12-22T12:09:34.731489Z",
     "shell.execute_reply": "2022-12-22T12:09:34.729641Z"
    },
    "papermill": {
     "duration": 0.017315,
     "end_time": "2022-12-22T12:09:34.733823",
     "exception": false,
     "start_time": "2022-12-22T12:09:34.716508",
     "status": "completed"
    },
    "tags": []
   },
   "outputs": [],
   "source": [
    "# Uncomment to see a hint\n",
    "#q1.hint()\n",
    "\n",
    "# Uncomment to view the solution\n",
    "#q1.solution()"
   ]
  },
  {
   "cell_type": "markdown",
   "id": "2c86a491",
   "metadata": {
    "papermill": {
     "duration": 0.005863,
     "end_time": "2022-12-22T12:09:34.746300",
     "exception": false,
     "start_time": "2022-12-22T12:09:34.740437",
     "status": "completed"
    },
    "tags": []
   },
   "source": [
    "# Question 2\n",
    "\n",
    "You are thinking about buying a home and want to get an idea of how much you will spend, based on the number of bedrooms and bathrooms.  You are trying to decide between four different options:\n",
    "- Option 1: house with two bedrooms and three bathrooms\n",
    "- Option 2: house with three bedrooms and two bathrooms\n",
    "- Option 3: house with three bedrooms and three bathrooms\n",
    "- Option 4: house with three bedrooms and four bathrooms\n",
    "\n",
    "Use the `get_expected_cost()` function you defined in question 1 to set `option_1`, `option_2`, `option_3`, and `option_4` to the expected cost of each option."
   ]
  },
  {
   "cell_type": "code",
   "execution_count": 4,
   "id": "6baa4465",
   "metadata": {
    "execution": {
     "iopub.execute_input": "2022-12-22T12:09:34.762571Z",
     "iopub.status.busy": "2022-12-22T12:09:34.762052Z",
     "iopub.status.idle": "2022-12-22T12:09:34.778148Z",
     "shell.execute_reply": "2022-12-22T12:09:34.775747Z"
    },
    "papermill": {
     "duration": 0.028866,
     "end_time": "2022-12-22T12:09:34.781342",
     "exception": false,
     "start_time": "2022-12-22T12:09:34.752476",
     "status": "completed"
    },
    "tags": []
   },
   "outputs": [
    {
     "name": "stdout",
     "output_type": "stream",
     "text": [
      "170000\n",
      "190000\n",
      "200000\n",
      "210000\n"
     ]
    },
    {
     "data": {
      "application/javascript": [
       "parent.postMessage({\"jupyterEvent\": \"custom.exercise_interaction\", \"data\": {\"outcomeType\": 1, \"valueTowardsCompletion\": 0.2, \"interactionType\": 1, \"questionType\": 1, \"questionId\": \"2_RunGetExpectedCost\", \"learnToolsVersion\": \"0.3.4\", \"failureMessage\": \"\", \"exceptionClass\": \"\", \"trace\": \"\"}}, \"*\")"
      ],
      "text/plain": [
       "<IPython.core.display.Javascript object>"
      ]
     },
     "metadata": {},
     "output_type": "display_data"
    },
    {
     "data": {
      "text/markdown": [
       "<span style=\"color:#33cc33\">Correct</span>"
      ],
      "text/plain": [
       "Correct"
      ]
     },
     "metadata": {},
     "output_type": "display_data"
    }
   ],
   "source": [
    "# TODO: Use the get_expected_cost function to fill in each value\n",
    "option_one = get_expected_cost(2,3)\n",
    "option_two = get_expected_cost(3,2)\n",
    "option_three = get_expected_cost(3,3)\n",
    "option_four = get_expected_cost(3,4)\n",
    "\n",
    "print(option_one)\n",
    "print(option_two)\n",
    "print(option_three)\n",
    "print(option_four)\n",
    "\n",
    "# Check your answer\n",
    "q2.check()"
   ]
  },
  {
   "cell_type": "code",
   "execution_count": 5,
   "id": "972014ed",
   "metadata": {
    "execution": {
     "iopub.execute_input": "2022-12-22T12:09:34.798372Z",
     "iopub.status.busy": "2022-12-22T12:09:34.797970Z",
     "iopub.status.idle": "2022-12-22T12:09:34.803611Z",
     "shell.execute_reply": "2022-12-22T12:09:34.802287Z"
    },
    "papermill": {
     "duration": 0.017189,
     "end_time": "2022-12-22T12:09:34.806116",
     "exception": false,
     "start_time": "2022-12-22T12:09:34.788927",
     "status": "completed"
    },
    "tags": []
   },
   "outputs": [],
   "source": [
    "# Uncomment to see a hint\n",
    "#q2.hint()\n",
    "\n",
    "# Uncomment to view the solution\n",
    "#q2.solution()"
   ]
  },
  {
   "cell_type": "markdown",
   "id": "42aaba5a",
   "metadata": {
    "papermill": {
     "duration": 0.006809,
     "end_time": "2022-12-22T12:09:34.820417",
     "exception": false,
     "start_time": "2022-12-22T12:09:34.813608",
     "status": "completed"
    },
    "tags": []
   },
   "source": [
    "# Question 3\n",
    "\n",
    "You're a home decorator, and you'd like to use Python to streamline some of your work.  Specifically, you're creating a tool that you intend to use to calculate the cost of painting a room.\n",
    "\n",
    "As a first step, define a function `get_cost()` that takes as input:\n",
    "- `sqft_walls` = total square feet of walls to be painted\n",
    "- `sqft_ceiling` = square feet of ceiling to be painted\n",
    "- `sqft_per_gallon` = number of square feet that you can cover with one gallon of paint\n",
    "- `cost_per_gallon` = cost (in dollars) of one gallon of paint\n",
    "\n",
    "It should return the cost (in dollars) of putting one coat of paint on all walls and the ceiling.  Assume you can buy the exact amount of paint that you need, so you can buy partial gallons (e.g., if you need 7.523 gallons, you can buy that exact amount, instead of needing to buy 8 gallons and waste some paint).  Do not round your answer."
   ]
  },
  {
   "cell_type": "code",
   "execution_count": 6,
   "id": "36d39ea7",
   "metadata": {
    "execution": {
     "iopub.execute_input": "2022-12-22T12:09:34.840019Z",
     "iopub.status.busy": "2022-12-22T12:09:34.838600Z",
     "iopub.status.idle": "2022-12-22T12:09:34.850549Z",
     "shell.execute_reply": "2022-12-22T12:09:34.849663Z"
    },
    "papermill": {
     "duration": 0.026546,
     "end_time": "2022-12-22T12:09:34.854154",
     "exception": false,
     "start_time": "2022-12-22T12:09:34.827608",
     "status": "completed"
    },
    "tags": []
   },
   "outputs": [
    {
     "data": {
      "application/javascript": [
       "parent.postMessage({\"jupyterEvent\": \"custom.exercise_interaction\", \"data\": {\"outcomeType\": 2, \"failureMessage\": \"Expected return value of `21.599999999999998` given `sqft_walls=432`, `sqft_ceiling=144`, `sqft_per_gallon=400`, `cost_per_gallon=15`, but got `()` instead.\", \"interactionType\": 1, \"questionType\": 2, \"questionId\": \"3_GetCostPaint\", \"learnToolsVersion\": \"0.3.4\", \"valueTowardsCompletion\": 0.0, \"exceptionClass\": \"\", \"trace\": \"\"}}, \"*\")"
      ],
      "text/plain": [
       "<IPython.core.display.Javascript object>"
      ]
     },
     "metadata": {},
     "output_type": "display_data"
    },
    {
     "data": {
      "text/markdown": [
       "<span style=\"color:#cc3333\">Incorrect:</span> Expected return value of `21.599999999999998` given `sqft_walls=432`, `sqft_ceiling=144`, `sqft_per_gallon=400`, `cost_per_gallon=15`, but got `()` instead."
      ],
      "text/plain": [
       "Incorrect: Expected return value of `21.599999999999998` given `sqft_walls=432`, `sqft_ceiling=144`, `sqft_per_gallon=400`, `cost_per_gallon=15`, but got `()` instead."
      ]
     },
     "metadata": {},
     "output_type": "display_data"
    }
   ],
   "source": [
    "# TODO: Finish defining the function\n",
    "def get_cost(sqft_walls, sqft_ceiling, sqft_per_gallon, cost_per_gallon):\n",
    "    cost = ()\n",
    "    return cost\n",
    "\n",
    "# Check your answer\n",
    "q3.check()"
   ]
  },
  {
   "cell_type": "code",
   "execution_count": 7,
   "id": "5817d52e",
   "metadata": {
    "execution": {
     "iopub.execute_input": "2022-12-22T12:09:34.875387Z",
     "iopub.status.busy": "2022-12-22T12:09:34.874370Z",
     "iopub.status.idle": "2022-12-22T12:09:34.885596Z",
     "shell.execute_reply": "2022-12-22T12:09:34.884307Z"
    },
    "papermill": {
     "duration": 0.023,
     "end_time": "2022-12-22T12:09:34.888206",
     "exception": false,
     "start_time": "2022-12-22T12:09:34.865206",
     "status": "completed"
    },
    "tags": []
   },
   "outputs": [
    {
     "data": {
      "application/javascript": [
       "parent.postMessage({\"jupyterEvent\": \"custom.exercise_interaction\", \"data\": {\"interactionType\": 2, \"questionType\": 2, \"questionId\": \"3_GetCostPaint\", \"learnToolsVersion\": \"0.3.4\", \"valueTowardsCompletion\": 0.0, \"failureMessage\": \"\", \"exceptionClass\": \"\", \"trace\": \"\", \"outcomeType\": 4}}, \"*\")"
      ],
      "text/plain": [
       "<IPython.core.display.Javascript object>"
      ]
     },
     "metadata": {},
     "output_type": "display_data"
    },
    {
     "data": {
      "text/markdown": [
       "<span style=\"color:#3366cc\">Hint:</span> Begin by calculating the total number of square feet that need to be painted. Then, based on that, figure out how many gallons you need.  Then, once you know how many gallons you need, you can calculate the total cost of the project."
      ],
      "text/plain": [
       "Hint: Begin by calculating the total number of square feet that need to be painted. Then, based on that, figure out how many gallons you need.  Then, once you know how many gallons you need, you can calculate the total cost of the project."
      ]
     },
     "metadata": {},
     "output_type": "display_data"
    }
   ],
   "source": [
    "# Uncomment to see a hint\n",
    "q3.hint()\n",
    "\n",
    "# Uncomment to view the solution\n",
    "#q3.solution()"
   ]
  },
  {
   "cell_type": "markdown",
   "id": "a353d245",
   "metadata": {
    "papermill": {
     "duration": 0.007141,
     "end_time": "2022-12-22T12:09:34.902807",
     "exception": false,
     "start_time": "2022-12-22T12:09:34.895666",
     "status": "completed"
    },
    "tags": []
   },
   "source": [
    "# Question 4\n",
    "\n",
    "Use the `get_cost()` function you defined in Question 3 to calculate the cost of applying one coat of paint to a room with:\n",
    "- 432 square feet of walls, and\n",
    "- 144 square feet of ceiling.\n",
    "\n",
    "Assume that one gallon of paint covers 400 square feet and costs $15.  As in Question 3, assume you can buy partial gallons of paint.  Do not round your answer."
   ]
  },
  {
   "cell_type": "code",
   "execution_count": 8,
   "id": "32cdf53d",
   "metadata": {
    "execution": {
     "iopub.execute_input": "2022-12-22T12:09:34.922106Z",
     "iopub.status.busy": "2022-12-22T12:09:34.920862Z",
     "iopub.status.idle": "2022-12-22T12:09:34.934169Z",
     "shell.execute_reply": "2022-12-22T12:09:34.932140Z"
    },
    "papermill": {
     "duration": 0.025798,
     "end_time": "2022-12-22T12:09:34.937181",
     "exception": false,
     "start_time": "2022-12-22T12:09:34.911383",
     "status": "completed"
    },
    "tags": []
   },
   "outputs": [
    {
     "data": {
      "application/javascript": [
       "parent.postMessage({\"jupyterEvent\": \"custom.exercise_interaction\", \"data\": {\"outcomeType\": 4, \"interactionType\": 1, \"questionType\": 1, \"questionId\": \"4_GetCostPaintExample\", \"learnToolsVersion\": \"0.3.4\", \"valueTowardsCompletion\": 0.0, \"failureMessage\": \"\", \"exceptionClass\": \"\", \"trace\": \"\"}}, \"*\")"
      ],
      "text/plain": [
       "<IPython.core.display.Javascript object>"
      ]
     },
     "metadata": {},
     "output_type": "display_data"
    },
    {
     "data": {
      "text/markdown": [
       "<span style=\"color:#ccaa33\">Check:</span> When you've updated the starter code, `check()` will tell you whether your code is correct. You need to update the code that creates variable `project_cost`"
      ],
      "text/plain": [
       "Check: When you've updated the starter code, `check()` will tell you whether your code is correct. You need to update the code that creates variable `project_cost`"
      ]
     },
     "metadata": {},
     "output_type": "display_data"
    }
   ],
   "source": [
    "# TODO: Set the project_cost variable to the cost of the project\n",
    "project_cost = ____\n",
    "\n",
    "# Check your answer\n",
    "q4.check()"
   ]
  },
  {
   "cell_type": "code",
   "execution_count": 9,
   "id": "35cad94e",
   "metadata": {
    "execution": {
     "iopub.execute_input": "2022-12-22T12:09:34.956648Z",
     "iopub.status.busy": "2022-12-22T12:09:34.956192Z",
     "iopub.status.idle": "2022-12-22T12:09:34.961713Z",
     "shell.execute_reply": "2022-12-22T12:09:34.960281Z"
    },
    "papermill": {
     "duration": 0.017956,
     "end_time": "2022-12-22T12:09:34.964575",
     "exception": false,
     "start_time": "2022-12-22T12:09:34.946619",
     "status": "completed"
    },
    "tags": []
   },
   "outputs": [],
   "source": [
    "# Uncomment to see a hint\n",
    "#q4.hint()\n",
    "\n",
    "# Uncomment to view the solution\n",
    "#q4.solution()"
   ]
  },
  {
   "cell_type": "markdown",
   "id": "5099d822",
   "metadata": {
    "papermill": {
     "duration": 0.008408,
     "end_time": "2022-12-22T12:09:34.981312",
     "exception": false,
     "start_time": "2022-12-22T12:09:34.972904",
     "status": "completed"
    },
    "tags": []
   },
   "source": [
    "# 🌶️ Question 5\n",
    "\n",
    "Now say you can no longer buy fractions of a gallon.  (For instance, if you need 4.3 gallons to do a project, then you have to buy 5 gallons of paint.)\n",
    "\n",
    "With this new scenario, you will create a new function `get_actual_cost` that uses the same inputs and calculates the cost of your project.\n",
    "\n",
    "One function that you'll need to use to do this is `math.ceil()`.  We demonstrate usage of this function in the code cell below.  It takes as a number as input and rounds the number up to the nearest integer.  \n",
    "\n",
    "Run the next code cell to test this function for yourself.  Feel free to change the value of `test_value` and make sure `math.ceil()` returns the number you expect."
   ]
  },
  {
   "cell_type": "code",
   "execution_count": 10,
   "id": "e720d3f2",
   "metadata": {
    "execution": {
     "iopub.execute_input": "2022-12-22T12:09:35.000206Z",
     "iopub.status.busy": "2022-12-22T12:09:34.998492Z",
     "iopub.status.idle": "2022-12-22T12:09:35.007572Z",
     "shell.execute_reply": "2022-12-22T12:09:35.005675Z"
    },
    "papermill": {
     "duration": 0.021316,
     "end_time": "2022-12-22T12:09:35.010435",
     "exception": false,
     "start_time": "2022-12-22T12:09:34.989119",
     "status": "completed"
    },
    "tags": []
   },
   "outputs": [
    {
     "name": "stdout",
     "output_type": "stream",
     "text": [
      "3\n"
     ]
    }
   ],
   "source": [
    "test_value = 2.17\n",
    "\n",
    "rounded_value = math.ceil(test_value)\n",
    "print(rounded_value)"
   ]
  },
  {
   "cell_type": "markdown",
   "id": "1e4fa67b",
   "metadata": {
    "papermill": {
     "duration": 0.007305,
     "end_time": "2022-12-22T12:09:35.025706",
     "exception": false,
     "start_time": "2022-12-22T12:09:35.018401",
     "status": "completed"
    },
    "tags": []
   },
   "source": [
    "Use the next code cell to define the function `get_actual_cost()`.  You'll need to use the `math.ceil()` function to do this.\n",
    "\n",
    "When answering this question, note that it's completely valid to define a function that makes use of another function.  For instance, we can define a function `round_up_and_divide_by_three` that makes use of the `math.ceil` function:\n",
    "```\n",
    "def round_up_and_divide_by_three(num):\n",
    "    new_value = math.ceil(num)\n",
    "    final_value = new_value / 3\n",
    "    return final_value\n",
    "```"
   ]
  },
  {
   "cell_type": "code",
   "execution_count": 11,
   "id": "3478d1e1",
   "metadata": {
    "execution": {
     "iopub.execute_input": "2022-12-22T12:09:35.043999Z",
     "iopub.status.busy": "2022-12-22T12:09:35.042922Z",
     "iopub.status.idle": "2022-12-22T12:09:35.051207Z",
     "shell.execute_reply": "2022-12-22T12:09:35.050343Z"
    },
    "papermill": {
     "duration": 0.020681,
     "end_time": "2022-12-22T12:09:35.053988",
     "exception": false,
     "start_time": "2022-12-22T12:09:35.033307",
     "status": "completed"
    },
    "tags": []
   },
   "outputs": [
    {
     "data": {
      "application/javascript": [
       "parent.postMessage({\"jupyterEvent\": \"custom.exercise_interaction\", \"data\": {\"outcomeType\": 2, \"failureMessage\": \"Expected return value of `30` given `sqft_walls=432`, `sqft_ceiling=144`, `sqft_per_gallon=400`, `cost_per_gallon=15`, but got `<learntools.core.constants.PlaceholderValue object at 0x7f601bfef250>` instead.\", \"interactionType\": 1, \"questionType\": 2, \"questionId\": \"5_NoMoreFractions\", \"learnToolsVersion\": \"0.3.4\", \"valueTowardsCompletion\": 0.0, \"exceptionClass\": \"\", \"trace\": \"\"}}, \"*\")"
      ],
      "text/plain": [
       "<IPython.core.display.Javascript object>"
      ]
     },
     "metadata": {},
     "output_type": "display_data"
    },
    {
     "data": {
      "text/markdown": [
       "<span style=\"color:#cc3333\">Incorrect:</span> Expected return value of `30` given `sqft_walls=432`, `sqft_ceiling=144`, `sqft_per_gallon=400`, `cost_per_gallon=15`, but got `<learntools.core.constants.PlaceholderValue object at 0x7f601bfef250>` instead."
      ],
      "text/plain": [
       "Incorrect: Expected return value of `30` given `sqft_walls=432`, `sqft_ceiling=144`, `sqft_per_gallon=400`, `cost_per_gallon=15`, but got `<learntools.core.constants.PlaceholderValue object at 0x7f601bfef250>` instead."
      ]
     },
     "metadata": {},
     "output_type": "display_data"
    }
   ],
   "source": [
    "def get_actual_cost(sqft_walls, sqft_ceiling, sqft_per_gallon, cost_per_gallon):\n",
    "    cost = ____\n",
    "    return cost\n",
    "\n",
    "# Check your answer\n",
    "q5.check()"
   ]
  },
  {
   "cell_type": "code",
   "execution_count": 12,
   "id": "23e36fa3",
   "metadata": {
    "execution": {
     "iopub.execute_input": "2022-12-22T12:09:35.074829Z",
     "iopub.status.busy": "2022-12-22T12:09:35.073202Z",
     "iopub.status.idle": "2022-12-22T12:09:35.078900Z",
     "shell.execute_reply": "2022-12-22T12:09:35.077842Z"
    },
    "papermill": {
     "duration": 0.01858,
     "end_time": "2022-12-22T12:09:35.081736",
     "exception": false,
     "start_time": "2022-12-22T12:09:35.063156",
     "status": "completed"
    },
    "tags": []
   },
   "outputs": [],
   "source": [
    "# Uncomment to see a hint\n",
    "#q5.hint()\n",
    "\n",
    "# Uncomment to view the solution\n",
    "#q5.solution()"
   ]
  },
  {
   "cell_type": "markdown",
   "id": "cbc42f33",
   "metadata": {
    "papermill": {
     "duration": 0.007575,
     "end_time": "2022-12-22T12:09:35.097238",
     "exception": false,
     "start_time": "2022-12-22T12:09:35.089663",
     "status": "completed"
    },
    "tags": []
   },
   "source": [
    "Once your function is verified as correct, run the next code cell to calculate the updated cost of your project."
   ]
  },
  {
   "cell_type": "code",
   "execution_count": 13,
   "id": "669156f3",
   "metadata": {
    "execution": {
     "iopub.execute_input": "2022-12-22T12:09:35.123882Z",
     "iopub.status.busy": "2022-12-22T12:09:35.123114Z",
     "iopub.status.idle": "2022-12-22T12:09:35.130401Z",
     "shell.execute_reply": "2022-12-22T12:09:35.129186Z"
    },
    "papermill": {
     "duration": 0.023489,
     "end_time": "2022-12-22T12:09:35.133369",
     "exception": false,
     "start_time": "2022-12-22T12:09:35.109880",
     "status": "completed"
    },
    "tags": []
   },
   "outputs": [
    {
     "data": {
      "text/markdown": [],
      "text/plain": [
       "<learntools.core.constants.PlaceholderValue at 0x7f601bfef250>"
      ]
     },
     "execution_count": 13,
     "metadata": {},
     "output_type": "execute_result"
    }
   ],
   "source": [
    "get_actual_cost(432, 144, 400, 15) "
   ]
  },
  {
   "cell_type": "markdown",
   "id": "fa976ed1",
   "metadata": {
    "papermill": {
     "duration": 0.008005,
     "end_time": "2022-12-22T12:09:35.152894",
     "exception": false,
     "start_time": "2022-12-22T12:09:35.144889",
     "status": "completed"
    },
    "tags": []
   },
   "source": [
    "Say you're working with a slightly larger room.  Run the next code cell to calculate the cost of the project."
   ]
  },
  {
   "cell_type": "code",
   "execution_count": 14,
   "id": "f8052836",
   "metadata": {
    "execution": {
     "iopub.execute_input": "2022-12-22T12:09:35.172678Z",
     "iopub.status.busy": "2022-12-22T12:09:35.171726Z",
     "iopub.status.idle": "2022-12-22T12:09:35.179843Z",
     "shell.execute_reply": "2022-12-22T12:09:35.178515Z"
    },
    "papermill": {
     "duration": 0.020152,
     "end_time": "2022-12-22T12:09:35.182706",
     "exception": false,
     "start_time": "2022-12-22T12:09:35.162554",
     "status": "completed"
    },
    "tags": []
   },
   "outputs": [
    {
     "data": {
      "text/markdown": [],
      "text/plain": [
       "<learntools.core.constants.PlaceholderValue at 0x7f601bfef250>"
      ]
     },
     "execution_count": 14,
     "metadata": {},
     "output_type": "execute_result"
    }
   ],
   "source": [
    "get_actual_cost(594, 288, 400, 15) "
   ]
  },
  {
   "cell_type": "markdown",
   "id": "f3b1f495",
   "metadata": {
    "papermill": {
     "duration": 0.008154,
     "end_time": "2022-12-22T12:09:35.199382",
     "exception": false,
     "start_time": "2022-12-22T12:09:35.191228",
     "status": "completed"
    },
    "tags": []
   },
   "source": [
    "# Keep going\n",
    "\n",
    "Continue to learn about **[data types](https://www.kaggle.com/alexisbcook/data-types)**."
   ]
  },
  {
   "cell_type": "markdown",
   "id": "71c4b424",
   "metadata": {
    "papermill": {
     "duration": 0.00789,
     "end_time": "2022-12-22T12:09:35.215891",
     "exception": false,
     "start_time": "2022-12-22T12:09:35.208001",
     "status": "completed"
    },
    "tags": []
   },
   "source": [
    "---\n",
    "\n",
    "\n",
    "\n",
    "\n",
    "*Have questions or comments? Visit the [course discussion forum](https://www.kaggle.com/learn/intro-to-programming/discussion) to chat with other learners.*"
   ]
  }
 ],
 "metadata": {
  "kernelspec": {
   "display_name": "Python 3",
   "language": "python",
   "name": "python3"
  },
  "language_info": {
   "codemirror_mode": {
    "name": "ipython",
    "version": 3
   },
   "file_extension": ".py",
   "mimetype": "text/x-python",
   "name": "python",
   "nbconvert_exporter": "python",
   "pygments_lexer": "ipython3",
   "version": "3.7.12"
  },
  "papermill": {
   "default_parameters": {},
   "duration": 10.138241,
   "end_time": "2022-12-22T12:09:35.848570",
   "environment_variables": {},
   "exception": null,
   "input_path": "__notebook__.ipynb",
   "output_path": "__notebook__.ipynb",
   "parameters": {},
   "start_time": "2022-12-22T12:09:25.710329",
   "version": "2.3.4"
  }
 },
 "nbformat": 4,
 "nbformat_minor": 5
}
