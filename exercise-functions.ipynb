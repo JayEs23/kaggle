{
 "cells": [
  {
   "cell_type": "markdown",
   "id": "0bb9f8cb",
   "metadata": {
    "papermill": {
     "duration": 0.007381,
     "end_time": "2022-12-26T13:17:00.180900",
     "exception": false,
     "start_time": "2022-12-26T13:17:00.173519",
     "status": "completed"
    },
    "tags": []
   },
   "source": [
    "**This notebook is an exercise in the [Intro to Programming](https://www.kaggle.com/learn/intro-to-programming) course.  You can reference the tutorial at [this link](https://www.kaggle.com/alexisbcook/functions).**\n",
    "\n",
    "---\n"
   ]
  },
  {
   "cell_type": "markdown",
   "id": "2d83d8f9",
   "metadata": {
    "papermill": {
     "duration": 0.005921,
     "end_time": "2022-12-26T13:17:00.193231",
     "exception": false,
     "start_time": "2022-12-26T13:17:00.187310",
     "status": "completed"
    },
    "tags": []
   },
   "source": [
    "In the tutorial, you learned about functions. In this exercise, you'll write some of your own!\n",
    "\n",
    "# Set up the notebook\n",
    "\n",
    "Run the next code cell without changes to set up the notebook."
   ]
  },
  {
   "cell_type": "code",
   "execution_count": 1,
   "id": "f1b3779c",
   "metadata": {
    "execution": {
     "iopub.execute_input": "2022-12-26T13:17:00.206743Z",
     "iopub.status.busy": "2022-12-26T13:17:00.206278Z",
     "iopub.status.idle": "2022-12-26T13:17:00.272341Z",
     "shell.execute_reply": "2022-12-26T13:17:00.271407Z"
    },
    "papermill": {
     "duration": 0.076212,
     "end_time": "2022-12-26T13:17:00.274798",
     "exception": false,
     "start_time": "2022-12-26T13:17:00.198586",
     "status": "completed"
    },
    "tags": []
   },
   "outputs": [
    {
     "name": "stdout",
     "output_type": "stream",
     "text": [
      "Setup complete.\n"
     ]
    }
   ],
   "source": [
    "# Set up the exercise\n",
    "import math\n",
    "from learntools.core import binder\n",
    "binder.bind(globals())\n",
    "from learntools.intro_to_programming.ex2 import *\n",
    "print('Setup complete.')"
   ]
  },
  {
   "cell_type": "markdown",
   "id": "f35dbeaf",
   "metadata": {
    "papermill": {
     "duration": 0.005265,
     "end_time": "2022-12-26T13:17:00.286892",
     "exception": false,
     "start_time": "2022-12-26T13:17:00.281627",
     "status": "completed"
    },
    "tags": []
   },
   "source": [
    "# Question 1\n",
    "\n",
    "In the [House Prices - Advanced Regression Techniques competition](https://www.kaggle.com/c/house-prices-advanced-regression-techniques/overview), you need to use information like the number of bedrooms and bathrooms to predict the price of a house.  Inspired by this competition, you'll write your own function to do this.\n",
    "\n",
    "In the next code cell, create a function `get_expected_cost()` that has two arguments:\n",
    "- `beds` - number of bedrooms \n",
    "- `baths` - number of bathrooms\n",
    "\n",
    "It should return the expected cost of a house with that number of bedrooms and bathrooms.  Assume that:\n",
    "- the expected cost for a house with 0 bedrooms and 0 bathrooms is `80000`.  \n",
    "- each bedroom adds `30000` to the expected cost\n",
    "- each bathroom adds `10000` to the expected cost.\n",
    "\n",
    "For instance, \n",
    "- a house with 1 bedroom and 1 bathroom has an expected cost of `120000`, and \n",
    "- a house with 2 bedrooms and 1 bathroom has an expected cost of `150000`."
   ]
  },
  {
   "cell_type": "code",
   "execution_count": 2,
   "id": "03b45fe1",
   "metadata": {
    "execution": {
     "iopub.execute_input": "2022-12-26T13:17:00.299417Z",
     "iopub.status.busy": "2022-12-26T13:17:00.299103Z",
     "iopub.status.idle": "2022-12-26T13:17:00.310175Z",
     "shell.execute_reply": "2022-12-26T13:17:00.309113Z"
    },
    "papermill": {
     "duration": 0.019649,
     "end_time": "2022-12-26T13:17:00.311897",
     "exception": false,
     "start_time": "2022-12-26T13:17:00.292248",
     "status": "completed"
    },
    "tags": []
   },
   "outputs": [
    {
     "data": {
      "application/javascript": [
       "parent.postMessage({\"jupyterEvent\": \"custom.exercise_interaction\", \"data\": {\"outcomeType\": 1, \"valueTowardsCompletion\": 0.2, \"interactionType\": 1, \"questionType\": 2, \"questionId\": \"1_GetExpectedCost\", \"learnToolsVersion\": \"0.3.4\", \"failureMessage\": \"\", \"exceptionClass\": \"\", \"trace\": \"\"}}, \"*\")"
      ],
      "text/plain": [
       "<IPython.core.display.Javascript object>"
      ]
     },
     "metadata": {},
     "output_type": "display_data"
    },
    {
     "data": {
      "text/markdown": [
       "<span style=\"color:#33cc33\">Correct</span>"
      ],
      "text/plain": [
       "Correct"
      ]
     },
     "metadata": {},
     "output_type": "display_data"
    }
   ],
   "source": [
    "# TODO: Complete the function\n",
    "def get_expected_cost(beds, baths):\n",
    "    b1 = 30000\n",
    "    b2 = 10000\n",
    "    value = 80000 + (b1 * beds) + (b2 * baths)\n",
    "    return value\n",
    "\n",
    "# Check your answer \n",
    "q1.check()"
   ]
  },
  {
   "cell_type": "code",
   "execution_count": 3,
   "id": "8760db6e",
   "metadata": {
    "execution": {
     "iopub.execute_input": "2022-12-26T13:17:00.326029Z",
     "iopub.status.busy": "2022-12-26T13:17:00.325621Z",
     "iopub.status.idle": "2022-12-26T13:17:00.330588Z",
     "shell.execute_reply": "2022-12-26T13:17:00.329206Z"
    },
    "papermill": {
     "duration": 0.015616,
     "end_time": "2022-12-26T13:17:00.333124",
     "exception": false,
     "start_time": "2022-12-26T13:17:00.317508",
     "status": "completed"
    },
    "tags": []
   },
   "outputs": [],
   "source": [
    "# Uncomment to see a hint\n",
    "#q1.hint()\n",
    "\n",
    "# Uncomment to view the solution\n",
    "#q1.solution()"
   ]
  },
  {
   "cell_type": "markdown",
   "id": "9d9b6ed5",
   "metadata": {
    "papermill": {
     "duration": 0.009621,
     "end_time": "2022-12-26T13:17:00.348863",
     "exception": false,
     "start_time": "2022-12-26T13:17:00.339242",
     "status": "completed"
    },
    "tags": []
   },
   "source": [
    "# Question 2\n",
    "\n",
    "You are thinking about buying a home and want to get an idea of how much you will spend, based on the number of bedrooms and bathrooms.  You are trying to decide between four different options:\n",
    "- Option 1: house with two bedrooms and three bathrooms\n",
    "- Option 2: house with three bedrooms and two bathrooms\n",
    "- Option 3: house with three bedrooms and three bathrooms\n",
    "- Option 4: house with three bedrooms and four bathrooms\n",
    "\n",
    "Use the `get_expected_cost()` function you defined in question 1 to set `option_1`, `option_2`, `option_3`, and `option_4` to the expected cost of each option."
   ]
  },
  {
   "cell_type": "code",
   "execution_count": 4,
   "id": "3a51494e",
   "metadata": {
    "execution": {
     "iopub.execute_input": "2022-12-26T13:17:00.365498Z",
     "iopub.status.busy": "2022-12-26T13:17:00.365050Z",
     "iopub.status.idle": "2022-12-26T13:17:00.378909Z",
     "shell.execute_reply": "2022-12-26T13:17:00.377418Z"
    },
    "papermill": {
     "duration": 0.026714,
     "end_time": "2022-12-26T13:17:00.381627",
     "exception": false,
     "start_time": "2022-12-26T13:17:00.354913",
     "status": "completed"
    },
    "tags": []
   },
   "outputs": [
    {
     "name": "stdout",
     "output_type": "stream",
     "text": [
      "170000\n",
      "190000\n",
      "200000\n",
      "210000\n"
     ]
    },
    {
     "data": {
      "application/javascript": [
       "parent.postMessage({\"jupyterEvent\": \"custom.exercise_interaction\", \"data\": {\"outcomeType\": 1, \"valueTowardsCompletion\": 0.2, \"interactionType\": 1, \"questionType\": 1, \"questionId\": \"2_RunGetExpectedCost\", \"learnToolsVersion\": \"0.3.4\", \"failureMessage\": \"\", \"exceptionClass\": \"\", \"trace\": \"\"}}, \"*\")"
      ],
      "text/plain": [
       "<IPython.core.display.Javascript object>"
      ]
     },
     "metadata": {},
     "output_type": "display_data"
    },
    {
     "data": {
      "text/markdown": [
       "<span style=\"color:#33cc33\">Correct</span>"
      ],
      "text/plain": [
       "Correct"
      ]
     },
     "metadata": {},
     "output_type": "display_data"
    }
   ],
   "source": [
    "# TODO: Use the get_expected_cost function to fill in each value\n",
    "option_one = get_expected_cost(2,3)\n",
    "option_two = get_expected_cost(3,2)\n",
    "option_three = get_expected_cost(3,3)\n",
    "option_four = get_expected_cost(3,4)\n",
    "\n",
    "print(option_one)\n",
    "print(option_two)\n",
    "print(option_three)\n",
    "print(option_four)\n",
    "\n",
    "# Check your answer\n",
    "q2.check()"
   ]
  },
  {
   "cell_type": "code",
   "execution_count": 5,
   "id": "da9e5cd3",
   "metadata": {
    "execution": {
     "iopub.execute_input": "2022-12-26T13:17:00.395417Z",
     "iopub.status.busy": "2022-12-26T13:17:00.395052Z",
     "iopub.status.idle": "2022-12-26T13:17:00.400895Z",
     "shell.execute_reply": "2022-12-26T13:17:00.398987Z"
    },
    "papermill": {
     "duration": 0.016395,
     "end_time": "2022-12-26T13:17:00.404315",
     "exception": false,
     "start_time": "2022-12-26T13:17:00.387920",
     "status": "completed"
    },
    "tags": []
   },
   "outputs": [],
   "source": [
    "# Uncomment to see a hint\n",
    "#q2.hint()\n",
    "\n",
    "# Uncomment to view the solution\n",
    "#q2.solution()"
   ]
  },
  {
   "cell_type": "markdown",
   "id": "8e442d49",
   "metadata": {
    "papermill": {
     "duration": 0.005794,
     "end_time": "2022-12-26T13:17:00.416646",
     "exception": false,
     "start_time": "2022-12-26T13:17:00.410852",
     "status": "completed"
    },
    "tags": []
   },
   "source": [
    "# Question 3\n",
    "\n",
    "You're a home decorator, and you'd like to use Python to streamline some of your work.  Specifically, you're creating a tool that you intend to use to calculate the cost of painting a room.\n",
    "\n",
    "As a first step, define a function `get_cost()` that takes as input:\n",
    "- `sqft_walls` = total square feet of walls to be painted\n",
    "- `sqft_ceiling` = square feet of ceiling to be painted\n",
    "- `sqft_per_gallon` = number of square feet that you can cover with one gallon of paint\n",
    "- `cost_per_gallon` = cost (in dollars) of one gallon of paint\n",
    "\n",
    "It should return the cost (in dollars) of putting one coat of paint on all walls and the ceiling.  Assume you can buy the exact amount of paint that you need, so you can buy partial gallons (e.g., if you need 7.523 gallons, you can buy that exact amount, instead of needing to buy 8 gallons and waste some paint).  Do not round your answer."
   ]
  },
  {
   "cell_type": "code",
   "execution_count": 6,
   "id": "41ae1bbb",
   "metadata": {
    "execution": {
     "iopub.execute_input": "2022-12-26T13:17:00.430148Z",
     "iopub.status.busy": "2022-12-26T13:17:00.429737Z",
     "iopub.status.idle": "2022-12-26T13:17:00.439067Z",
     "shell.execute_reply": "2022-12-26T13:17:00.438133Z"
    },
    "papermill": {
     "duration": 0.018318,
     "end_time": "2022-12-26T13:17:00.440933",
     "exception": false,
     "start_time": "2022-12-26T13:17:00.422615",
     "status": "completed"
    },
    "tags": []
   },
   "outputs": [
    {
     "data": {
      "application/javascript": [
       "parent.postMessage({\"jupyterEvent\": \"custom.exercise_interaction\", \"data\": {\"outcomeType\": 2, \"failureMessage\": \"Expected return value of `21.599999999999998` given `sqft_walls=432`, `sqft_ceiling=144`, `sqft_per_gallon=400`, `cost_per_gallon=15`, but got `()` instead.\", \"interactionType\": 1, \"questionType\": 2, \"questionId\": \"3_GetCostPaint\", \"learnToolsVersion\": \"0.3.4\", \"valueTowardsCompletion\": 0.0, \"exceptionClass\": \"\", \"trace\": \"\"}}, \"*\")"
      ],
      "text/plain": [
       "<IPython.core.display.Javascript object>"
      ]
     },
     "metadata": {},
     "output_type": "display_data"
    },
    {
     "data": {
      "text/markdown": [
       "<span style=\"color:#cc3333\">Incorrect:</span> Expected return value of `21.599999999999998` given `sqft_walls=432`, `sqft_ceiling=144`, `sqft_per_gallon=400`, `cost_per_gallon=15`, but got `()` instead."
      ],
      "text/plain": [
       "Incorrect: Expected return value of `21.599999999999998` given `sqft_walls=432`, `sqft_ceiling=144`, `sqft_per_gallon=400`, `cost_per_gallon=15`, but got `()` instead."
      ]
     },
     "metadata": {},
     "output_type": "display_data"
    }
   ],
   "source": [
    "# TODO: Finish defining the function\n",
    "def get_cost(sqft_walls, sqft_ceiling, sqft_per_gallon, cost_per_gallon):\n",
    "    cost = ()\n",
    "    return cost\n",
    "\n",
    "# Check your answer\n",
    "q3.check()"
   ]
  },
  {
   "cell_type": "code",
   "execution_count": 7,
   "id": "671b8b7c",
   "metadata": {
    "execution": {
     "iopub.execute_input": "2022-12-26T13:17:00.454544Z",
     "iopub.status.busy": "2022-12-26T13:17:00.454202Z",
     "iopub.status.idle": "2022-12-26T13:17:00.464315Z",
     "shell.execute_reply": "2022-12-26T13:17:00.462926Z"
    },
    "papermill": {
     "duration": 0.019852,
     "end_time": "2022-12-26T13:17:00.466718",
     "exception": false,
     "start_time": "2022-12-26T13:17:00.446866",
     "status": "completed"
    },
    "tags": []
   },
   "outputs": [
    {
     "data": {
      "application/javascript": [
       "parent.postMessage({\"jupyterEvent\": \"custom.exercise_interaction\", \"data\": {\"interactionType\": 2, \"questionType\": 2, \"questionId\": \"3_GetCostPaint\", \"learnToolsVersion\": \"0.3.4\", \"valueTowardsCompletion\": 0.0, \"failureMessage\": \"\", \"exceptionClass\": \"\", \"trace\": \"\", \"outcomeType\": 4}}, \"*\")"
      ],
      "text/plain": [
       "<IPython.core.display.Javascript object>"
      ]
     },
     "metadata": {},
     "output_type": "display_data"
    },
    {
     "data": {
      "text/markdown": [
       "<span style=\"color:#3366cc\">Hint:</span> Begin by calculating the total number of square feet that need to be painted. Then, based on that, figure out how many gallons you need.  Then, once you know how many gallons you need, you can calculate the total cost of the project."
      ],
      "text/plain": [
       "Hint: Begin by calculating the total number of square feet that need to be painted. Then, based on that, figure out how many gallons you need.  Then, once you know how many gallons you need, you can calculate the total cost of the project."
      ]
     },
     "metadata": {},
     "output_type": "display_data"
    }
   ],
   "source": [
    "# Uncomment to see a hint\n",
    "q3.hint()\n",
    "\n",
    "# Uncomment to view the solution\n",
    "#q3.solution()"
   ]
  },
  {
   "cell_type": "markdown",
   "id": "0d57643e",
   "metadata": {
    "papermill": {
     "duration": 0.006448,
     "end_time": "2022-12-26T13:17:00.479888",
     "exception": false,
     "start_time": "2022-12-26T13:17:00.473440",
     "status": "completed"
    },
    "tags": []
   },
   "source": [
    "# Question 4\n",
    "\n",
    "Use the `get_cost()` function you defined in Question 3 to calculate the cost of applying one coat of paint to a room with:\n",
    "- 432 square feet of walls, and\n",
    "- 144 square feet of ceiling.\n",
    "\n",
    "Assume that one gallon of paint covers 400 square feet and costs $15.  As in Question 3, assume you can buy partial gallons of paint.  Do not round your answer."
   ]
  },
  {
   "cell_type": "code",
   "execution_count": 8,
   "id": "3320d3fc",
   "metadata": {
    "execution": {
     "iopub.execute_input": "2022-12-26T13:17:00.495513Z",
     "iopub.status.busy": "2022-12-26T13:17:00.495078Z",
     "iopub.status.idle": "2022-12-26T13:17:00.503639Z",
     "shell.execute_reply": "2022-12-26T13:17:00.502106Z"
    },
    "papermill": {
     "duration": 0.019219,
     "end_time": "2022-12-26T13:17:00.506022",
     "exception": false,
     "start_time": "2022-12-26T13:17:00.486803",
     "status": "completed"
    },
    "tags": []
   },
   "outputs": [
    {
     "data": {
      "application/javascript": [
       "parent.postMessage({\"jupyterEvent\": \"custom.exercise_interaction\", \"data\": {\"outcomeType\": 4, \"interactionType\": 1, \"questionType\": 1, \"questionId\": \"4_GetCostPaintExample\", \"learnToolsVersion\": \"0.3.4\", \"valueTowardsCompletion\": 0.0, \"failureMessage\": \"\", \"exceptionClass\": \"\", \"trace\": \"\"}}, \"*\")"
      ],
      "text/plain": [
       "<IPython.core.display.Javascript object>"
      ]
     },
     "metadata": {},
     "output_type": "display_data"
    },
    {
     "data": {
      "text/markdown": [
       "<span style=\"color:#ccaa33\">Check:</span> When you've updated the starter code, `check()` will tell you whether your code is correct. You need to update the code that creates variable `project_cost`"
      ],
      "text/plain": [
       "Check: When you've updated the starter code, `check()` will tell you whether your code is correct. You need to update the code that creates variable `project_cost`"
      ]
     },
     "metadata": {},
     "output_type": "display_data"
    }
   ],
   "source": [
    "# TODO: Set the project_cost variable to the cost of the project\n",
    "project_cost = ____\n",
    "\n",
    "# Check your answer\n",
    "q4.check()"
   ]
  },
  {
   "cell_type": "code",
   "execution_count": 9,
   "id": "9db999e1",
   "metadata": {
    "execution": {
     "iopub.execute_input": "2022-12-26T13:17:00.520774Z",
     "iopub.status.busy": "2022-12-26T13:17:00.520370Z",
     "iopub.status.idle": "2022-12-26T13:17:00.525532Z",
     "shell.execute_reply": "2022-12-26T13:17:00.524255Z"
    },
    "papermill": {
     "duration": 0.015378,
     "end_time": "2022-12-26T13:17:00.528003",
     "exception": false,
     "start_time": "2022-12-26T13:17:00.512625",
     "status": "completed"
    },
    "tags": []
   },
   "outputs": [],
   "source": [
    "# Uncomment to see a hint\n",
    "#q4.hint()\n",
    "\n",
    "# Uncomment to view the solution\n",
    "#q4.solution()"
   ]
  },
  {
   "cell_type": "markdown",
   "id": "65394043",
   "metadata": {
    "papermill": {
     "duration": 0.006153,
     "end_time": "2022-12-26T13:17:00.541007",
     "exception": false,
     "start_time": "2022-12-26T13:17:00.534854",
     "status": "completed"
    },
    "tags": []
   },
   "source": [
    "# 🌶️ Question 5\n",
    "\n",
    "Now say you can no longer buy fractions of a gallon.  (For instance, if you need 4.3 gallons to do a project, then you have to buy 5 gallons of paint.)\n",
    "\n",
    "With this new scenario, you will create a new function `get_actual_cost` that uses the same inputs and calculates the cost of your project.\n",
    "\n",
    "One function that you'll need to use to do this is `math.ceil()`.  We demonstrate usage of this function in the code cell below.  It takes as a number as input and rounds the number up to the nearest integer.  \n",
    "\n",
    "Run the next code cell to test this function for yourself.  Feel free to change the value of `test_value` and make sure `math.ceil()` returns the number you expect."
   ]
  },
  {
   "cell_type": "code",
   "execution_count": 10,
   "id": "99148de8",
   "metadata": {
    "execution": {
     "iopub.execute_input": "2022-12-26T13:17:00.555917Z",
     "iopub.status.busy": "2022-12-26T13:17:00.555480Z",
     "iopub.status.idle": "2022-12-26T13:17:00.561047Z",
     "shell.execute_reply": "2022-12-26T13:17:00.559963Z"
    },
    "papermill": {
     "duration": 0.015546,
     "end_time": "2022-12-26T13:17:00.563095",
     "exception": false,
     "start_time": "2022-12-26T13:17:00.547549",
     "status": "completed"
    },
    "tags": []
   },
   "outputs": [
    {
     "name": "stdout",
     "output_type": "stream",
     "text": [
      "3\n"
     ]
    }
   ],
   "source": [
    "test_value = 2.17\n",
    "\n",
    "rounded_value = math.ceil(test_value)\n",
    "print(rounded_value)"
   ]
  },
  {
   "cell_type": "markdown",
   "id": "27d834d0",
   "metadata": {
    "papermill": {
     "duration": 0.006339,
     "end_time": "2022-12-26T13:17:00.576279",
     "exception": false,
     "start_time": "2022-12-26T13:17:00.569940",
     "status": "completed"
    },
    "tags": []
   },
   "source": [
    "Use the next code cell to define the function `get_actual_cost()`.  You'll need to use the `math.ceil()` function to do this.\n",
    "\n",
    "When answering this question, note that it's completely valid to define a function that makes use of another function.  For instance, we can define a function `round_up_and_divide_by_three` that makes use of the `math.ceil` function:\n",
    "```\n",
    "def round_up_and_divide_by_three(num):\n",
    "    new_value = math.ceil(num)\n",
    "    final_value = new_value / 3\n",
    "    return final_value\n",
    "```"
   ]
  },
  {
   "cell_type": "code",
   "execution_count": 11,
   "id": "4d5afc34",
   "metadata": {
    "execution": {
     "iopub.execute_input": "2022-12-26T13:17:00.591407Z",
     "iopub.status.busy": "2022-12-26T13:17:00.591050Z",
     "iopub.status.idle": "2022-12-26T13:17:00.598552Z",
     "shell.execute_reply": "2022-12-26T13:17:00.597259Z"
    },
    "papermill": {
     "duration": 0.01813,
     "end_time": "2022-12-26T13:17:00.601168",
     "exception": false,
     "start_time": "2022-12-26T13:17:00.583038",
     "status": "completed"
    },
    "tags": []
   },
   "outputs": [
    {
     "data": {
      "application/javascript": [
       "parent.postMessage({\"jupyterEvent\": \"custom.exercise_interaction\", \"data\": {\"outcomeType\": 2, \"failureMessage\": \"Expected return value of `30` given `sqft_walls=432`, `sqft_ceiling=144`, `sqft_per_gallon=400`, `cost_per_gallon=15`, but got `<learntools.core.constants.PlaceholderValue object at 0x7f599b7c3350>` instead.\", \"interactionType\": 1, \"questionType\": 2, \"questionId\": \"5_NoMoreFractions\", \"learnToolsVersion\": \"0.3.4\", \"valueTowardsCompletion\": 0.0, \"exceptionClass\": \"\", \"trace\": \"\"}}, \"*\")"
      ],
      "text/plain": [
       "<IPython.core.display.Javascript object>"
      ]
     },
     "metadata": {},
     "output_type": "display_data"
    },
    {
     "data": {
      "text/markdown": [
       "<span style=\"color:#cc3333\">Incorrect:</span> Expected return value of `30` given `sqft_walls=432`, `sqft_ceiling=144`, `sqft_per_gallon=400`, `cost_per_gallon=15`, but got `<learntools.core.constants.PlaceholderValue object at 0x7f599b7c3350>` instead."
      ],
      "text/plain": [
       "Incorrect: Expected return value of `30` given `sqft_walls=432`, `sqft_ceiling=144`, `sqft_per_gallon=400`, `cost_per_gallon=15`, but got `<learntools.core.constants.PlaceholderValue object at 0x7f599b7c3350>` instead."
      ]
     },
     "metadata": {},
     "output_type": "display_data"
    }
   ],
   "source": [
    "def get_actual_cost(sqft_walls, sqft_ceiling, sqft_per_gallon, cost_per_gallon):\n",
    "    cost = ____\n",
    "    return cost\n",
    "\n",
    "# Check your answer\n",
    "q5.check()"
   ]
  },
  {
   "cell_type": "code",
   "execution_count": 12,
   "id": "72b10fa7",
   "metadata": {
    "execution": {
     "iopub.execute_input": "2022-12-26T13:17:00.616567Z",
     "iopub.status.busy": "2022-12-26T13:17:00.616158Z",
     "iopub.status.idle": "2022-12-26T13:17:00.620997Z",
     "shell.execute_reply": "2022-12-26T13:17:00.619089Z"
    },
    "papermill": {
     "duration": 0.015226,
     "end_time": "2022-12-26T13:17:00.623294",
     "exception": false,
     "start_time": "2022-12-26T13:17:00.608068",
     "status": "completed"
    },
    "tags": []
   },
   "outputs": [],
   "source": [
    "# Uncomment to see a hint\n",
    "#q5.hint()\n",
    "\n",
    "# Uncomment to view the solution\n",
    "#q5.solution()"
   ]
  },
  {
   "cell_type": "markdown",
   "id": "7518a85a",
   "metadata": {
    "papermill": {
     "duration": 0.006732,
     "end_time": "2022-12-26T13:17:00.637158",
     "exception": false,
     "start_time": "2022-12-26T13:17:00.630426",
     "status": "completed"
    },
    "tags": []
   },
   "source": [
    "Once your function is verified as correct, run the next code cell to calculate the updated cost of your project."
   ]
  },
  {
   "cell_type": "code",
   "execution_count": 13,
   "id": "ab1f53f1",
   "metadata": {
    "execution": {
     "iopub.execute_input": "2022-12-26T13:17:00.652920Z",
     "iopub.status.busy": "2022-12-26T13:17:00.652464Z",
     "iopub.status.idle": "2022-12-26T13:17:00.661137Z",
     "shell.execute_reply": "2022-12-26T13:17:00.659903Z"
    },
    "papermill": {
     "duration": 0.019624,
     "end_time": "2022-12-26T13:17:00.664057",
     "exception": false,
     "start_time": "2022-12-26T13:17:00.644433",
     "status": "completed"
    },
    "tags": []
   },
   "outputs": [
    {
     "data": {
      "text/markdown": [],
      "text/plain": [
       "<learntools.core.constants.PlaceholderValue at 0x7f599b7c3350>"
      ]
     },
     "execution_count": 13,
     "metadata": {},
     "output_type": "execute_result"
    }
   ],
   "source": [
    "get_actual_cost(432, 144, 400, 15) "
   ]
  },
  {
   "cell_type": "markdown",
   "id": "fa301ae1",
   "metadata": {
    "papermill": {
     "duration": 0.007083,
     "end_time": "2022-12-26T13:17:00.678211",
     "exception": false,
     "start_time": "2022-12-26T13:17:00.671128",
     "status": "completed"
    },
    "tags": []
   },
   "source": [
    "Say you're working with a slightly larger room.  Run the next code cell to calculate the cost of the project."
   ]
  },
  {
   "cell_type": "code",
   "execution_count": 14,
   "id": "be9ddfc0",
   "metadata": {
    "execution": {
     "iopub.execute_input": "2022-12-26T13:17:00.694746Z",
     "iopub.status.busy": "2022-12-26T13:17:00.694322Z",
     "iopub.status.idle": "2022-12-26T13:17:00.700907Z",
     "shell.execute_reply": "2022-12-26T13:17:00.699799Z"
    },
    "papermill": {
     "duration": 0.016678,
     "end_time": "2022-12-26T13:17:00.702553",
     "exception": false,
     "start_time": "2022-12-26T13:17:00.685875",
     "status": "completed"
    },
    "tags": []
   },
   "outputs": [
    {
     "data": {
      "text/markdown": [],
      "text/plain": [
       "<learntools.core.constants.PlaceholderValue at 0x7f599b7c3350>"
      ]
     },
     "execution_count": 14,
     "metadata": {},
     "output_type": "execute_result"
    }
   ],
   "source": [
    "get_actual_cost(594, 288, 400, 15) "
   ]
  },
  {
   "cell_type": "markdown",
   "id": "aa2ebc8d",
   "metadata": {
    "papermill": {
     "duration": 0.006643,
     "end_time": "2022-12-26T13:17:00.716241",
     "exception": false,
     "start_time": "2022-12-26T13:17:00.709598",
     "status": "completed"
    },
    "tags": []
   },
   "source": [
    "# Keep going\n",
    "\n",
    "Continue to learn about **[data types](https://www.kaggle.com/alexisbcook/data-types)**."
   ]
  },
  {
   "cell_type": "markdown",
   "id": "1b7e239c",
   "metadata": {
    "papermill": {
     "duration": 0.006644,
     "end_time": "2022-12-26T13:17:00.729984",
     "exception": false,
     "start_time": "2022-12-26T13:17:00.723340",
     "status": "completed"
    },
    "tags": []
   },
   "source": [
    "---\n",
    "\n",
    "\n",
    "\n",
    "\n",
    "*Have questions or comments? Visit the [course discussion forum](https://www.kaggle.com/learn/intro-to-programming/discussion) to chat with other learners.*"
   ]
  }
 ],
 "metadata": {
  "kernelspec": {
   "display_name": "Python 3",
   "language": "python",
   "name": "python3"
  },
  "language_info": {
   "codemirror_mode": {
    "name": "ipython",
    "version": 3
   },
   "file_extension": ".py",
   "mimetype": "text/x-python",
   "name": "python",
   "nbconvert_exporter": "python",
   "pygments_lexer": "ipython3",
   "version": "3.7.12"
  },
  "papermill": {
   "default_parameters": {},
   "duration": 10.958778,
   "end_time": "2022-12-26T13:17:01.561158",
   "environment_variables": {},
   "exception": null,
   "input_path": "__notebook__.ipynb",
   "output_path": "__notebook__.ipynb",
   "parameters": {},
   "start_time": "2022-12-26T13:16:50.602380",
   "version": "2.3.4"
  }
 },
 "nbformat": 4,
 "nbformat_minor": 5
}
