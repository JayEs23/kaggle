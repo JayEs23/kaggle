{
 "cells": [
  {
   "cell_type": "markdown",
   "id": "4c0efe07",
   "metadata": {
    "papermill": {
     "duration": 0.008992,
     "end_time": "2022-12-22T12:12:55.607945",
     "exception": false,
     "start_time": "2022-12-22T12:12:55.598953",
     "status": "completed"
    },
    "tags": []
   },
   "source": [
    "**This notebook is an exercise in the [Python](https://www.kaggle.com/learn/python) course.  You can reference the tutorial at [this link](https://www.kaggle.com/colinmorris/hello-python).**\n",
    "\n",
    "---\n"
   ]
  },
  {
   "cell_type": "markdown",
   "id": "61118a12",
   "metadata": {
    "papermill": {
     "duration": 0.007379,
     "end_time": "2022-12-22T12:12:55.623419",
     "exception": false,
     "start_time": "2022-12-22T12:12:55.616040",
     "status": "completed"
    },
    "tags": []
   },
   "source": [
    "Welcome to your first set of Python coding problems.  If this is your first time using Kaggle Notebooks, welcome! \n",
    "\n",
    "Notebooks are composed of blocks (called \"cells\") of text and code. Each of these is editable, though you'll mainly be editing the code cells to answer some questions.\n",
    "\n",
    "To get started, try running the code cell below (by pressing the ► button, or clicking on the cell and pressing ctrl+enter on your keyboard)."
   ]
  },
  {
   "cell_type": "code",
   "execution_count": 1,
   "id": "a432882c",
   "metadata": {
    "execution": {
     "iopub.execute_input": "2022-12-22T12:12:55.643209Z",
     "iopub.status.busy": "2022-12-22T12:12:55.642458Z",
     "iopub.status.idle": "2022-12-22T12:12:55.656758Z",
     "shell.execute_reply": "2022-12-22T12:12:55.655721Z"
    },
    "papermill": {
     "duration": 0.027013,
     "end_time": "2022-12-22T12:12:55.659553",
     "exception": false,
     "start_time": "2022-12-22T12:12:55.632540",
     "status": "completed"
    },
    "tags": []
   },
   "outputs": [
    {
     "name": "stdout",
     "output_type": "stream",
     "text": [
      "You've successfully run some Python code\n",
      "Congratulations!\n"
     ]
    }
   ],
   "source": [
    "print(\"You've successfully run some Python code\")\n",
    "print(\"Congratulations!\")"
   ]
  },
  {
   "cell_type": "markdown",
   "id": "fd4b4b28",
   "metadata": {
    "papermill": {
     "duration": 0.007008,
     "end_time": "2022-12-22T12:12:55.674195",
     "exception": false,
     "start_time": "2022-12-22T12:12:55.667187",
     "status": "completed"
    },
    "tags": []
   },
   "source": [
    "Try adding another line of code in the cell above and re-running it. \n",
    "\n",
    "Now let's get a little fancier:  Add a new code cell by clicking on an existing code cell, hitting the escape key, and then hitting the `a` or `b` key.  The `a` key will add a cell above the current cell, and `b` adds a cell below.\n",
    "\n",
    "Great! Now you know how to use Notebooks.\n",
    "\n",
    "Each hands-on exercise starts by setting up our feedback and code checking mechanism. Run the code cell below to do that. Then you'll be ready to move on to question 0."
   ]
  },
  {
   "cell_type": "code",
   "execution_count": 2,
   "id": "8480a8dd",
   "metadata": {
    "_kg_hide-input": true,
    "_kg_hide-output": true,
    "execution": {
     "iopub.execute_input": "2022-12-22T12:12:55.690366Z",
     "iopub.status.busy": "2022-12-22T12:12:55.689907Z",
     "iopub.status.idle": "2022-12-22T12:12:55.742947Z",
     "shell.execute_reply": "2022-12-22T12:12:55.741630Z"
    },
    "papermill": {
     "duration": 0.064357,
     "end_time": "2022-12-22T12:12:55.745774",
     "exception": false,
     "start_time": "2022-12-22T12:12:55.681417",
     "status": "completed"
    },
    "tags": []
   },
   "outputs": [
    {
     "name": "stdout",
     "output_type": "stream",
     "text": [
      "Setup complete! You're ready to start question 0.\n"
     ]
    }
   ],
   "source": [
    "from learntools.core import binder; binder.bind(globals())\n",
    "from learntools.python.ex1 import *\n",
    "print(\"Setup complete! You're ready to start question 0.\")"
   ]
  },
  {
   "cell_type": "markdown",
   "id": "74a05fc8",
   "metadata": {
    "papermill": {
     "duration": 0.007496,
     "end_time": "2022-12-22T12:12:55.761045",
     "exception": false,
     "start_time": "2022-12-22T12:12:55.753549",
     "status": "completed"
    },
    "tags": []
   },
   "source": [
    "# 0.\n",
    "\n",
    "*This is a silly question intended as an introduction to the format we use for hands-on exercises throughout all Kaggle courses.*\n",
    "\n",
    "**What is your favorite color? **\n",
    "\n",
    "To complete this question, create a variable called `color` in the cell below with an appropriate value. The function call `q0.check()` (which we've already provided in the cell below) will check your answer."
   ]
  },
  {
   "cell_type": "code",
   "execution_count": 3,
   "id": "55fd1fd9",
   "metadata": {
    "execution": {
     "iopub.execute_input": "2022-12-22T12:12:55.778176Z",
     "iopub.status.busy": "2022-12-22T12:12:55.777402Z",
     "iopub.status.idle": "2022-12-22T12:12:55.790055Z",
     "shell.execute_reply": "2022-12-22T12:12:55.788872Z"
    },
    "papermill": {
     "duration": 0.023896,
     "end_time": "2022-12-22T12:12:55.792353",
     "exception": false,
     "start_time": "2022-12-22T12:12:55.768457",
     "status": "completed"
    },
    "tags": []
   },
   "outputs": [
    {
     "data": {
      "application/javascript": [
       "parent.postMessage({\"jupyterEvent\": \"custom.exercise_interaction\", \"data\": {\"outcomeType\": 1, \"valueTowardsCompletion\": 0.25, \"interactionType\": 1, \"questionType\": 2, \"questionId\": \"0_ExerciseFormatTutorial\", \"learnToolsVersion\": \"0.3.4\", \"failureMessage\": \"\", \"exceptionClass\": \"\", \"trace\": \"\"}}, \"*\")"
      ],
      "text/plain": [
       "<IPython.core.display.Javascript object>"
      ]
     },
     "metadata": {},
     "output_type": "display_data"
    },
    {
     "data": {
      "text/markdown": [
       "<span style=\"color:#33cc33\">Correct:</span> What?! You got it right without needing a hint or anything? Drats. Well hey, you should still continue to the next step to get some practice asking for a hint and checking solutions. (Even though you obviously don't need any help here.)"
      ],
      "text/plain": [
       "Correct: What?! You got it right without needing a hint or anything? Drats. Well hey, you should still continue to the next step to get some practice asking for a hint and checking solutions. (Even though you obviously don't need any help here.)"
      ]
     },
     "metadata": {},
     "output_type": "display_data"
    }
   ],
   "source": [
    "# create a variable called color with an appropriate value on the line below\n",
    "# (Remember, strings in Python must be enclosed in 'single' or \"double\" quotes)\n",
    "____\n",
    "color = \"Blue\"\n",
    "# Check your answer\n",
    "q0.check()"
   ]
  },
  {
   "cell_type": "markdown",
   "id": "1bf00043",
   "metadata": {
    "papermill": {
     "duration": 0.007293,
     "end_time": "2022-12-22T12:12:55.808852",
     "exception": false,
     "start_time": "2022-12-22T12:12:55.801559",
     "status": "completed"
    },
    "tags": []
   },
   "source": [
    "Didn't get the right answer? How do you not even know your own favorite color?!\n",
    "\n",
    "Delete the `#` in the line below to make one of the lines run. You can choose between getting a hint or the full answer by choosing which line to remove the `#` from. \n",
    "\n",
    "Removing the `#` is called uncommenting, because it changes that line from a \"comment\" which Python doesn't run to code, which Python does run."
   ]
  },
  {
   "cell_type": "code",
   "execution_count": 4,
   "id": "d2e87e9e",
   "metadata": {
    "execution": {
     "iopub.execute_input": "2022-12-22T12:12:55.826551Z",
     "iopub.status.busy": "2022-12-22T12:12:55.826016Z",
     "iopub.status.idle": "2022-12-22T12:12:55.840752Z",
     "shell.execute_reply": "2022-12-22T12:12:55.839464Z"
    },
    "papermill": {
     "duration": 0.026848,
     "end_time": "2022-12-22T12:12:55.843242",
     "exception": false,
     "start_time": "2022-12-22T12:12:55.816394",
     "status": "completed"
    },
    "tags": []
   },
   "outputs": [
    {
     "data": {
      "application/javascript": [
       "parent.postMessage({\"jupyterEvent\": \"custom.exercise_interaction\", \"data\": {\"interactionType\": 2, \"questionType\": 2, \"questionId\": \"0_ExerciseFormatTutorial\", \"learnToolsVersion\": \"0.3.4\", \"valueTowardsCompletion\": 0.0, \"failureMessage\": \"\", \"exceptionClass\": \"\", \"trace\": \"\", \"outcomeType\": 4}}, \"*\")"
      ],
      "text/plain": [
       "<IPython.core.display.Javascript object>"
      ]
     },
     "metadata": {},
     "output_type": "display_data"
    },
    {
     "data": {
      "text/markdown": [
       "<span style=\"color:#3366cc\">Hint:</span> Your favorite color rhymes with *glue*."
      ],
      "text/plain": [
       "Hint: Your favorite color rhymes with *glue*."
      ]
     },
     "metadata": {},
     "output_type": "display_data"
    },
    {
     "data": {
      "application/javascript": [
       "parent.postMessage({\"jupyterEvent\": \"custom.exercise_interaction\", \"data\": {\"interactionType\": 3, \"questionType\": 2, \"questionId\": \"0_ExerciseFormatTutorial\", \"learnToolsVersion\": \"0.3.4\", \"valueTowardsCompletion\": 0.0, \"failureMessage\": \"\", \"exceptionClass\": \"\", \"trace\": \"\", \"outcomeType\": 4}}, \"*\")"
      ],
      "text/plain": [
       "<IPython.core.display.Javascript object>"
      ]
     },
     "metadata": {},
     "output_type": "display_data"
    },
    {
     "data": {
      "text/markdown": [
       "<span style=\"color:#33cc99\">Solution:</span> \n",
       "```python\n",
       "color = \"blue\"\n",
       "```"
      ],
      "text/plain": [
       "Solution: \n",
       "```python\n",
       "color = \"blue\"\n",
       "```"
      ]
     },
     "metadata": {},
     "output_type": "display_data"
    }
   ],
   "source": [
    "q0.hint()\n",
    "q0.solution()"
   ]
  },
  {
   "cell_type": "markdown",
   "id": "133760a8",
   "metadata": {
    "papermill": {
     "duration": 0.008415,
     "end_time": "2022-12-22T12:12:55.859721",
     "exception": false,
     "start_time": "2022-12-22T12:12:55.851306",
     "status": "completed"
    },
    "tags": []
   },
   "source": [
    "The upcoming questions work the same way. The only thing that will change are the question numbers. For the next question, you'll call `q1.check()`, `q1.hint()`, `q1.solution()`, for question 2, you'll call `q2.check()`, and so on."
   ]
  },
  {
   "cell_type": "markdown",
   "id": "f3fcefff",
   "metadata": {
    "papermill": {
     "duration": 0.007368,
     "end_time": "2022-12-22T12:12:55.874995",
     "exception": false,
     "start_time": "2022-12-22T12:12:55.867627",
     "status": "completed"
    },
    "tags": []
   },
   "source": [
    "<hr/>\n",
    "\n",
    "# 1.\n",
    "\n",
    "Complete the code below. In case it's helpful, here is the table of available arithmetic operations:\n",
    "\n",
    "\n",
    "\n",
    "| Operator     | Name           | Description                                            |\n",
    "|--------------|----------------|--------------------------------------------------------|\n",
    "| ``a + b``    | Addition       | Sum of ``a`` and ``b``                                 |\n",
    "| ``a - b``    | Subtraction    | Difference of ``a`` and ``b``                          |\n",
    "| ``a * b``    | Multiplication | Product of ``a`` and ``b``                             |\n",
    "| ``a / b``    | True division  | Quotient of ``a`` and ``b``                            |\n",
    "| ``a // b``   | Floor division | Quotient of ``a`` and ``b``, removing fractional parts |\n",
    "| ``a % b``    | Modulus        | Integer remainder after division of ``a`` by ``b``     |\n",
    "| ``a ** b``   | Exponentiation | ``a`` raised to the power of ``b``                     |\n",
    "| ``-a``       | Negation       | The negative of ``a``                                  |\n",
    "\n",
    "<span style=\"display:none\"></span>\n"
   ]
  },
  {
   "cell_type": "code",
   "execution_count": 5,
   "id": "0913520a",
   "metadata": {
    "execution": {
     "iopub.execute_input": "2022-12-22T12:12:55.893451Z",
     "iopub.status.busy": "2022-12-22T12:12:55.892900Z",
     "iopub.status.idle": "2022-12-22T12:12:55.905849Z",
     "shell.execute_reply": "2022-12-22T12:12:55.904178Z"
    },
    "papermill": {
     "duration": 0.026156,
     "end_time": "2022-12-22T12:12:55.908961",
     "exception": false,
     "start_time": "2022-12-22T12:12:55.882805",
     "status": "completed"
    },
    "tags": []
   },
   "outputs": [
    {
     "data": {
      "application/javascript": [
       "parent.postMessage({\"jupyterEvent\": \"custom.exercise_interaction\", \"data\": {\"outcomeType\": 1, \"valueTowardsCompletion\": 0.25, \"interactionType\": 1, \"questionType\": 1, \"questionId\": \"1_CircleArea\", \"learnToolsVersion\": \"0.3.4\", \"failureMessage\": \"\", \"exceptionClass\": \"\", \"trace\": \"\"}}, \"*\")"
      ],
      "text/plain": [
       "<IPython.core.display.Javascript object>"
      ]
     },
     "metadata": {},
     "output_type": "display_data"
    },
    {
     "data": {
      "text/markdown": [
       "<span style=\"color:#33cc33\">Correct</span>"
      ],
      "text/plain": [
       "Correct"
      ]
     },
     "metadata": {},
     "output_type": "display_data"
    }
   ],
   "source": [
    "pi = 3.14159 # approximate\n",
    "diameter = 3\n",
    "\n",
    "# Create a variable called 'radius' equal to half the diameter\n",
    "____\n",
    "radius = diameter/2\n",
    "\n",
    "# Create a variable called 'area', using the formula for the area of a circle: pi times the radius squared\n",
    "____\n",
    "area = pi * radius**2\n",
    "# Check your answer\n",
    "q1.check()"
   ]
  },
  {
   "cell_type": "code",
   "execution_count": 6,
   "id": "cdd25483",
   "metadata": {
    "execution": {
     "iopub.execute_input": "2022-12-22T12:12:55.929125Z",
     "iopub.status.busy": "2022-12-22T12:12:55.928645Z",
     "iopub.status.idle": "2022-12-22T12:12:55.933612Z",
     "shell.execute_reply": "2022-12-22T12:12:55.932355Z"
    },
    "papermill": {
     "duration": 0.018207,
     "end_time": "2022-12-22T12:12:55.936357",
     "exception": false,
     "start_time": "2022-12-22T12:12:55.918150",
     "status": "completed"
    },
    "tags": []
   },
   "outputs": [],
   "source": [
    "# Uncomment and run the lines below if you need help.\n",
    "#q1.hint()\n",
    "#q1.solution()"
   ]
  },
  {
   "cell_type": "markdown",
   "id": "86ef13a7",
   "metadata": {
    "papermill": {
     "duration": 0.008032,
     "end_time": "2022-12-22T12:12:55.953055",
     "exception": false,
     "start_time": "2022-12-22T12:12:55.945023",
     "status": "completed"
    },
    "tags": []
   },
   "source": [
    "<hr/>\n",
    "\n",
    "# 2.\n",
    "\n",
    "Add code to the following cell to swap variables `a` and `b` (so that `a` refers to the object previously referred to by `b` and vice versa)."
   ]
  },
  {
   "cell_type": "code",
   "execution_count": 7,
   "id": "93919904",
   "metadata": {
    "execution": {
     "iopub.execute_input": "2022-12-22T12:12:55.972803Z",
     "iopub.status.busy": "2022-12-22T12:12:55.972323Z",
     "iopub.status.idle": "2022-12-22T12:12:55.983256Z",
     "shell.execute_reply": "2022-12-22T12:12:55.982182Z"
    },
    "papermill": {
     "duration": 0.024431,
     "end_time": "2022-12-22T12:12:55.985954",
     "exception": false,
     "start_time": "2022-12-22T12:12:55.961523",
     "status": "completed"
    },
    "tags": []
   },
   "outputs": [
    {
     "data": {
      "application/javascript": [
       "parent.postMessage({\"jupyterEvent\": \"custom.exercise_interaction\", \"data\": {\"outcomeType\": 1, \"valueTowardsCompletion\": 0.25, \"interactionType\": 1, \"questionType\": 2, \"questionId\": \"2_VariableSwap\", \"learnToolsVersion\": \"0.3.4\", \"failureMessage\": \"\", \"exceptionClass\": \"\", \"trace\": \"\"}}, \"*\")"
      ],
      "text/plain": [
       "<IPython.core.display.Javascript object>"
      ]
     },
     "metadata": {},
     "output_type": "display_data"
    },
    {
     "data": {
      "text/markdown": [
       "<span style=\"color:#33cc33\">Correct:</span> \n",
       "\n",
       "The most straightforward solution is to use a third variable to temporarily store one of the old values. e.g.:\n",
       "\n",
       "    tmp = a\n",
       "    a = b\n",
       "    b = tmp\n",
       "\n",
       "If you've read lots of Python code, you might have seen the following trick to swap two variables in one line:\n",
       "\n",
       "    a, b = b, a\n",
       "\n",
       "We'll demystify this bit of Python magic later when we talk about *tuples*."
      ],
      "text/plain": [
       "Correct: \n",
       "\n",
       "The most straightforward solution is to use a third variable to temporarily store one of the old values. e.g.:\n",
       "\n",
       "    tmp = a\n",
       "    a = b\n",
       "    b = tmp\n",
       "\n",
       "If you've read lots of Python code, you might have seen the following trick to swap two variables in one line:\n",
       "\n",
       "    a, b = b, a\n",
       "\n",
       "We'll demystify this bit of Python magic later when we talk about *tuples*."
      ]
     },
     "metadata": {},
     "output_type": "display_data"
    }
   ],
   "source": [
    "########### Setup code - don't touch this part ######################\n",
    "# If you're curious, these are examples of lists. We'll talk about \n",
    "# them in depth a few lessons from now. For now, just know that they're\n",
    "# yet another type of Python object, like int or float.\n",
    "a = [1, 2, 3]\n",
    "b = [3, 2, 1]\n",
    "q2.store_original_ids()\n",
    "######################################################################\n",
    "\n",
    "# Your code goes here. Swap the values to which a and b refer.\n",
    "# If you get stuck, you can always uncomment one or both of the lines in\n",
    "# the next cell for a hint, or to peek at the solution.\n",
    "a, b = b, a\n",
    "######################################################################\n",
    "\n",
    "# Check your answer\n",
    "q2.check()"
   ]
  },
  {
   "cell_type": "code",
   "execution_count": 8,
   "id": "4800a557",
   "metadata": {
    "execution": {
     "iopub.execute_input": "2022-12-22T12:12:56.008435Z",
     "iopub.status.busy": "2022-12-22T12:12:56.007080Z",
     "iopub.status.idle": "2022-12-22T12:12:56.013549Z",
     "shell.execute_reply": "2022-12-22T12:12:56.011821Z"
    },
    "papermill": {
     "duration": 0.022888,
     "end_time": "2022-12-22T12:12:56.018350",
     "exception": false,
     "start_time": "2022-12-22T12:12:55.995462",
     "status": "completed"
    },
    "tags": []
   },
   "outputs": [],
   "source": [
    "#q2.hint()"
   ]
  },
  {
   "cell_type": "code",
   "execution_count": 9,
   "id": "416af55e",
   "metadata": {
    "execution": {
     "iopub.execute_input": "2022-12-22T12:12:56.040902Z",
     "iopub.status.busy": "2022-12-22T12:12:56.040420Z",
     "iopub.status.idle": "2022-12-22T12:12:56.045953Z",
     "shell.execute_reply": "2022-12-22T12:12:56.044564Z"
    },
    "papermill": {
     "duration": 0.020422,
     "end_time": "2022-12-22T12:12:56.049020",
     "exception": false,
     "start_time": "2022-12-22T12:12:56.028598",
     "status": "completed"
    },
    "tags": []
   },
   "outputs": [],
   "source": [
    "#q2.solution()"
   ]
  },
  {
   "cell_type": "markdown",
   "id": "7a9ae9fb",
   "metadata": {
    "papermill": {
     "duration": 0.008668,
     "end_time": "2022-12-22T12:12:56.067694",
     "exception": false,
     "start_time": "2022-12-22T12:12:56.059026",
     "status": "completed"
    },
    "tags": []
   },
   "source": [
    "<hr/>\n",
    "\n",
    "# 3a.\n",
    "\n",
    "Add parentheses to the following expression so that it evaluates to 1."
   ]
  },
  {
   "cell_type": "code",
   "execution_count": 10,
   "id": "fc7832d0",
   "metadata": {
    "execution": {
     "iopub.execute_input": "2022-12-22T12:12:56.088239Z",
     "iopub.status.busy": "2022-12-22T12:12:56.087750Z",
     "iopub.status.idle": "2022-12-22T12:12:56.097491Z",
     "shell.execute_reply": "2022-12-22T12:12:56.095946Z"
    },
    "papermill": {
     "duration": 0.022928,
     "end_time": "2022-12-22T12:12:56.100470",
     "exception": false,
     "start_time": "2022-12-22T12:12:56.077542",
     "status": "completed"
    },
    "tags": []
   },
   "outputs": [
    {
     "data": {
      "text/plain": [
       "1"
      ]
     },
     "execution_count": 10,
     "metadata": {},
     "output_type": "execute_result"
    }
   ],
   "source": [
    "(5 - 3 )// 2"
   ]
  },
  {
   "cell_type": "code",
   "execution_count": 11,
   "id": "661ebaca",
   "metadata": {
    "execution": {
     "iopub.execute_input": "2022-12-22T12:12:56.120199Z",
     "iopub.status.busy": "2022-12-22T12:12:56.119719Z",
     "iopub.status.idle": "2022-12-22T12:12:56.125932Z",
     "shell.execute_reply": "2022-12-22T12:12:56.124467Z"
    },
    "papermill": {
     "duration": 0.019854,
     "end_time": "2022-12-22T12:12:56.129394",
     "exception": false,
     "start_time": "2022-12-22T12:12:56.109540",
     "status": "completed"
    },
    "tags": []
   },
   "outputs": [],
   "source": [
    "#q3.a.hint()"
   ]
  },
  {
   "cell_type": "code",
   "execution_count": 12,
   "id": "7f02e5b0",
   "metadata": {
    "execution": {
     "iopub.execute_input": "2022-12-22T12:12:56.149908Z",
     "iopub.status.busy": "2022-12-22T12:12:56.148724Z",
     "iopub.status.idle": "2022-12-22T12:12:56.158103Z",
     "shell.execute_reply": "2022-12-22T12:12:56.157082Z"
    },
    "papermill": {
     "duration": 0.022051,
     "end_time": "2022-12-22T12:12:56.160534",
     "exception": false,
     "start_time": "2022-12-22T12:12:56.138483",
     "status": "completed"
    },
    "tags": []
   },
   "outputs": [
    {
     "data": {
      "application/javascript": [
       "parent.postMessage({\"jupyterEvent\": \"custom.exercise_interaction\", \"data\": {\"interactionType\": 3, \"questionType\": 4, \"questionId\": \"3.1_ArithmeticParensEasy\", \"learnToolsVersion\": \"0.3.4\", \"valueTowardsCompletion\": 0.0, \"failureMessage\": \"\", \"exceptionClass\": \"\", \"trace\": \"\", \"outcomeType\": 4}}, \"*\")"
      ],
      "text/plain": [
       "<IPython.core.display.Javascript object>"
      ]
     },
     "metadata": {},
     "output_type": "display_data"
    },
    {
     "data": {
      "text/markdown": [
       "<span style=\"color:#33cc99\">Solution:</span> \n",
       "```python\n",
       "(5 - 3) // 2\n",
       "```"
      ],
      "text/plain": [
       "Solution: \n",
       "```python\n",
       "(5 - 3) // 2\n",
       "```"
      ]
     },
     "metadata": {},
     "output_type": "display_data"
    }
   ],
   "source": [
    "# Check your answer (Run this code cell to receive credit!)\n",
    "q3.a.solution()"
   ]
  },
  {
   "cell_type": "markdown",
   "id": "d8100396",
   "metadata": {
    "papermill": {
     "duration": 0.008591,
     "end_time": "2022-12-22T12:12:56.178254",
     "exception": false,
     "start_time": "2022-12-22T12:12:56.169663",
     "status": "completed"
    },
    "tags": []
   },
   "source": [
    "# 3b.  <span title=\"A bit spicy\" style=\"color: darkgreen \">🌶️</span>\n",
    "\n",
    "<small>Questions, like this one, marked a spicy pepper are a bit harder.</small>\n",
    "\n",
    "Add parentheses to the following expression so that it evaluates to 0."
   ]
  },
  {
   "cell_type": "code",
   "execution_count": 13,
   "id": "0213d8e3",
   "metadata": {
    "execution": {
     "iopub.execute_input": "2022-12-22T12:12:56.198146Z",
     "iopub.status.busy": "2022-12-22T12:12:56.197652Z",
     "iopub.status.idle": "2022-12-22T12:12:56.204930Z",
     "shell.execute_reply": "2022-12-22T12:12:56.203985Z"
    },
    "papermill": {
     "duration": 0.020206,
     "end_time": "2022-12-22T12:12:56.207455",
     "exception": false,
     "start_time": "2022-12-22T12:12:56.187249",
     "status": "completed"
    },
    "tags": []
   },
   "outputs": [
    {
     "data": {
      "text/plain": [
       "0"
      ]
     },
     "execution_count": 13,
     "metadata": {},
     "output_type": "execute_result"
    }
   ],
   "source": [
    "8 - (3 * 2) - (1 + 1)"
   ]
  },
  {
   "cell_type": "code",
   "execution_count": 14,
   "id": "f0d1babf",
   "metadata": {
    "execution": {
     "iopub.execute_input": "2022-12-22T12:12:56.228757Z",
     "iopub.status.busy": "2022-12-22T12:12:56.228295Z",
     "iopub.status.idle": "2022-12-22T12:12:56.233206Z",
     "shell.execute_reply": "2022-12-22T12:12:56.232097Z"
    },
    "papermill": {
     "duration": 0.018417,
     "end_time": "2022-12-22T12:12:56.235666",
     "exception": false,
     "start_time": "2022-12-22T12:12:56.217249",
     "status": "completed"
    },
    "tags": []
   },
   "outputs": [],
   "source": [
    "#q3.b.hint()"
   ]
  },
  {
   "cell_type": "code",
   "execution_count": 15,
   "id": "02a20751",
   "metadata": {
    "execution": {
     "iopub.execute_input": "2022-12-22T12:12:56.256188Z",
     "iopub.status.busy": "2022-12-22T12:12:56.255595Z",
     "iopub.status.idle": "2022-12-22T12:12:56.264922Z",
     "shell.execute_reply": "2022-12-22T12:12:56.263520Z"
    },
    "papermill": {
     "duration": 0.022722,
     "end_time": "2022-12-22T12:12:56.267631",
     "exception": false,
     "start_time": "2022-12-22T12:12:56.244909",
     "status": "completed"
    },
    "tags": []
   },
   "outputs": [
    {
     "data": {
      "application/javascript": [
       "parent.postMessage({\"jupyterEvent\": \"custom.exercise_interaction\", \"data\": {\"interactionType\": 3, \"questionType\": 4, \"questionId\": \"3.2_ArithmeticParensHard\", \"learnToolsVersion\": \"0.3.4\", \"valueTowardsCompletion\": 0.0, \"failureMessage\": \"\", \"exceptionClass\": \"\", \"trace\": \"\", \"outcomeType\": 4}}, \"*\")"
      ],
      "text/plain": [
       "<IPython.core.display.Javascript object>"
      ]
     },
     "metadata": {},
     "output_type": "display_data"
    },
    {
     "data": {
      "text/markdown": [
       "<span style=\"color:#33cc99\">Solution:</span> `(8 - 3) * (2 - (1 + 1))` is one solution. There may be others."
      ],
      "text/plain": [
       "Solution: `(8 - 3) * (2 - (1 + 1))` is one solution. There may be others."
      ]
     },
     "metadata": {},
     "output_type": "display_data"
    }
   ],
   "source": [
    "# Check your answer (Run this code cell to receive credit!)\n",
    "q3.b.solution()"
   ]
  },
  {
   "cell_type": "markdown",
   "id": "ba8d31d2",
   "metadata": {
    "papermill": {
     "duration": 0.009191,
     "end_time": "2022-12-22T12:12:56.286962",
     "exception": false,
     "start_time": "2022-12-22T12:12:56.277771",
     "status": "completed"
    },
    "tags": []
   },
   "source": [
    "<hr/>\n",
    "\n",
    "# 4. \n",
    "Alice, Bob and Carol have agreed to pool their Halloween candy and split it evenly among themselves.\n",
    "For the sake of their friendship, any candies left over will be smashed. For example, if they collectively\n",
    "bring home 91 candies, they'll take 30 each and smash 1.\n",
    "\n",
    "Write an arithmetic expression below to calculate how many candies they must smash for a given haul."
   ]
  },
  {
   "cell_type": "code",
   "execution_count": 16,
   "id": "246020af",
   "metadata": {
    "execution": {
     "iopub.execute_input": "2022-12-22T12:12:56.308183Z",
     "iopub.status.busy": "2022-12-22T12:12:56.307700Z",
     "iopub.status.idle": "2022-12-22T12:12:56.318053Z",
     "shell.execute_reply": "2022-12-22T12:12:56.316918Z"
    },
    "papermill": {
     "duration": 0.023638,
     "end_time": "2022-12-22T12:12:56.320351",
     "exception": false,
     "start_time": "2022-12-22T12:12:56.296713",
     "status": "completed"
    },
    "tags": []
   },
   "outputs": [
    {
     "data": {
      "application/javascript": [
       "parent.postMessage({\"jupyterEvent\": \"custom.exercise_interaction\", \"data\": {\"outcomeType\": 1, \"valueTowardsCompletion\": 0.25, \"interactionType\": 1, \"questionType\": 1, \"questionId\": \"4_CandySplitting\", \"learnToolsVersion\": \"0.3.4\", \"failureMessage\": \"\", \"exceptionClass\": \"\", \"trace\": \"\"}}, \"*\")"
      ],
      "text/plain": [
       "<IPython.core.display.Javascript object>"
      ]
     },
     "metadata": {},
     "output_type": "display_data"
    },
    {
     "data": {
      "text/markdown": [
       "<span style=\"color:#33cc33\">Correct</span>"
      ],
      "text/plain": [
       "Correct"
      ]
     },
     "metadata": {},
     "output_type": "display_data"
    }
   ],
   "source": [
    "# Variables representing the number of candies collected by alice, bob, and carol\n",
    "alice_candies = 121\n",
    "bob_candies = 77\n",
    "carol_candies = 109\n",
    "\n",
    "# Your code goes here! Replace the right-hand side of this assignment with an expression\n",
    "# involving alice_candies, bob_candies, and carol_candies\n",
    "total = alice_candies + bob_candies + carol_candies\n",
    "each = total % 3\n",
    "\n",
    "to_smash = each\n",
    "\n",
    "# Check your answer\n",
    "q4.check()"
   ]
  },
  {
   "cell_type": "code",
   "execution_count": 17,
   "id": "7f7e686b",
   "metadata": {
    "execution": {
     "iopub.execute_input": "2022-12-22T12:12:56.341966Z",
     "iopub.status.busy": "2022-12-22T12:12:56.341453Z",
     "iopub.status.idle": "2022-12-22T12:12:56.346841Z",
     "shell.execute_reply": "2022-12-22T12:12:56.345590Z"
    },
    "papermill": {
     "duration": 0.019544,
     "end_time": "2022-12-22T12:12:56.349500",
     "exception": false,
     "start_time": "2022-12-22T12:12:56.329956",
     "status": "completed"
    },
    "tags": []
   },
   "outputs": [],
   "source": [
    "#q4.hint()\n",
    "#q4.solution()"
   ]
  },
  {
   "cell_type": "markdown",
   "id": "bb020112",
   "metadata": {
    "papermill": {
     "duration": 0.009291,
     "end_time": "2022-12-22T12:12:56.368825",
     "exception": false,
     "start_time": "2022-12-22T12:12:56.359534",
     "status": "completed"
    },
    "tags": []
   },
   "source": [
    "# Keep Going\n",
    "\n",
    "Next up, you'll **[learn to write new functions and understand functions others write](https://www.kaggle.com/colinmorris/functions-and-getting-help)**. This will make you at least 10 times more productive as a Python programmer. "
   ]
  },
  {
   "cell_type": "markdown",
   "id": "6fdc44b3",
   "metadata": {
    "papermill": {
     "duration": 0.009592,
     "end_time": "2022-12-22T12:12:56.388354",
     "exception": false,
     "start_time": "2022-12-22T12:12:56.378762",
     "status": "completed"
    },
    "tags": []
   },
   "source": [
    "---\n",
    "\n",
    "\n",
    "\n",
    "\n",
    "*Have questions or comments? Visit the [course discussion forum](https://www.kaggle.com/learn/python/discussion) to chat with other learners.*"
   ]
  }
 ],
 "metadata": {
  "kernelspec": {
   "display_name": "Python 3",
   "language": "python",
   "name": "python3"
  },
  "language_info": {
   "codemirror_mode": {
    "name": "ipython",
    "version": 3
   },
   "file_extension": ".py",
   "mimetype": "text/x-python",
   "name": "python",
   "nbconvert_exporter": "python",
   "pygments_lexer": "ipython3",
   "version": "3.7.12"
  },
  "papermill": {
   "default_parameters": {},
   "duration": 13.247653,
   "end_time": "2022-12-22T12:12:59.655597",
   "environment_variables": {},
   "exception": null,
   "input_path": "__notebook__.ipynb",
   "output_path": "__notebook__.ipynb",
   "parameters": {},
   "start_time": "2022-12-22T12:12:46.407944",
   "version": "2.3.4"
  }
 },
 "nbformat": 4,
 "nbformat_minor": 5
}
